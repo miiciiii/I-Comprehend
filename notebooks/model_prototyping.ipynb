{
 "cells": [
  {
   "cell_type": "code",
   "execution_count": 1,
   "metadata": {},
   "outputs": [
    {
     "name": "stderr",
     "output_type": "stream",
     "text": [
      "[nltk_data] Downloading package omw-1.4 to\n",
      "[nltk_data]     C:\\Users\\miiciii\\AppData\\Roaming\\nltk_data...\n",
      "[nltk_data]   Package omw-1.4 is already up-to-date!\n",
      "[nltk_data] Downloading package stopwords to\n",
      "[nltk_data]     C:\\Users\\miiciii\\AppData\\Roaming\\nltk_data...\n",
      "[nltk_data]   Package stopwords is already up-to-date!\n",
      "[nltk_data] Downloading package punkt to\n",
      "[nltk_data]     C:\\Users\\miiciii\\AppData\\Roaming\\nltk_data...\n",
      "[nltk_data]   Package punkt is already up-to-date!\n",
      "[nltk_data] Downloading package brown to\n",
      "[nltk_data]     C:\\Users\\miiciii\\AppData\\Roaming\\nltk_data...\n",
      "[nltk_data]   Package brown is already up-to-date!\n",
      "[nltk_data] Downloading package wordnet to\n",
      "[nltk_data]     C:\\Users\\miiciii\\AppData\\Roaming\\nltk_data...\n",
      "[nltk_data]   Package wordnet is already up-to-date!\n"
     ]
    }
   ],
   "source": [
    "import os\n",
    "import sys\n",
    "import warnings\n",
    "\n",
    "# Suppress specific warnings\n",
    "warnings.filterwarnings(\"ignore\", message=\"This sequence already has </s>.\")\n",
    "\n",
    "# Append path for module imports\n",
    "scripts_path = os.path.abspath(os.path.join('..', 'scripts'))\n",
    "sys.path.append(scripts_path)\n",
    "\n",
    "\n",
    "# Standard library imports\n",
    "import random\n",
    "import string\n",
    "\n",
    "# Third-party imports\n",
    "import json\n",
    "import numpy as np\n",
    "import pandas as pd\n",
    "import itertools\n",
    "import pke\n",
    "import torch\n",
    "import nltk\n",
    "from dateutil.parser import parse\n",
    "from nltk.corpus import stopwords, wordnet as wn\n",
    "from sklearn.feature_extraction.text import TfidfVectorizer\n",
    "from sklearn.metrics.pairwise import cosine_similarity\n",
    "# from textdistance import levenshtein\n",
    "from rapidfuzz.distance import Levenshtein as levenshtein\n",
    "\n",
    "# Download necessary NLTK data\n",
    "nltk.download('omw-1.4')\n",
    "nltk.download('stopwords')\n",
    "nltk.download('punkt')\n",
    "nltk.download('brown')\n",
    "nltk.download('wordnet')\n",
    "\n",
    "from typing import List, Dict\n",
    "import re\n"
   ]
  },
  {
   "cell_type": "code",
   "execution_count": 2,
   "metadata": {},
   "outputs": [
    {
     "name": "stderr",
     "output_type": "stream",
     "text": [
      "You are using the default legacy behaviour of the <class 'transformers.models.t5.tokenization_t5.T5Tokenizer'>. This is expected, and simply means that the `legacy` (previous) behavior will be used so nothing changes for you. If you want to use the new behaviour, set `legacy=False`. This should only be set if you understand what it means, and thoroughly read the reason why this was added as explained in https://github.com/huggingface/transformers/pull/24565\n",
      "d:\\01SetupFiles\\AnacondaNavigator\\anacondanavigatorfiles\\envs\\Thesis\\Lib\\site-packages\\transformers\\tokenization_utils_base.py:1601: FutureWarning: `clean_up_tokenization_spaces` was not set. It will be set to `True` by default. This behavior will be depracted in transformers v4.45, and will be then set to `False` by default. For more details check this issue: https://github.com/huggingface/transformers/issues/31884\n",
      "  warnings.warn(\n",
      "d:\\01SetupFiles\\AnacondaNavigator\\anacondanavigatorfiles\\envs\\Thesis\\Lib\\site-packages\\sentence_transformers\\models\\Dense.py:77: FutureWarning: You are using `torch.load` with `weights_only=False` (the current default value), which uses the default pickle module implicitly. It is possible to construct malicious pickle data which will execute arbitrary code during unpickling (See https://github.com/pytorch/pytorch/blob/main/SECURITY.md#untrusted-models for more details). In a future release, the default value for `weights_only` will be flipped to `True`. This limits the functions that could be executed during unpickling. Arbitrary objects will no longer be allowed to be loaded via this mode unless they are explicitly allowlisted by the user via `torch.serialization.add_safe_globals`. We recommend you start setting `weights_only=True` for any use case where you don't have full control of the loaded file. Please open an issue on GitHub for any issues related to this experimental feature.\n",
      "  torch.load(os.path.join(input_path, \"pytorch_model.bin\"), map_location=torch.device(\"cpu\"))\n"
     ]
    }
   ],
   "source": [
    "# Import custom models from model_manager\n",
    "from model_manager import (\n",
    "    get_answergeneration_model,\n",
    "    get_questiongeneration_model,\n",
    "    get_sense2vec_model,\n",
    "    get_sentence_transformer_model,\n",
    "    get_random_passage\n",
    ")"
   ]
  },
  {
   "cell_type": "code",
   "execution_count": 3,
   "metadata": {},
   "outputs": [],
   "source": [
    "# Initialize models\n",
    "t5ag_model, t5ag_tokenizer = get_answergeneration_model()\n",
    "t5qg_model, t5qg_tokenizer = get_questiongeneration_model()\n",
    "s2v = get_sense2vec_model()\n",
    "sentence_transformer_model = get_sentence_transformer_model()\n",
    "random_passage = get_random_passage()"
   ]
  },
  {
   "cell_type": "code",
   "execution_count": 4,
   "metadata": {},
   "outputs": [],
   "source": [
    "def answer_question(question, context):\n",
    "    \"\"\"Generate an answer for a given question and context.\"\"\"\n",
    "    input_text = f\"question: {question} context: {context}\"\n",
    "    input_ids = t5ag_tokenizer.encode(input_text, return_tensors=\"pt\", max_length=512, truncation=True)\n",
    "    \n",
    "    with torch.no_grad():\n",
    "        output = t5ag_model.generate(input_ids, max_length=512, num_return_sequences=1, max_new_tokens=200)\n",
    "\n",
    "    return t5ag_tokenizer.decode(output[0], skip_special_tokens=True).capitalize()\n",
    "\n",
    "def get_passage(passage):\n",
    "    \"\"\"Generate a random context from the dataset.\"\"\"\n",
    "    return passage.sample(n=1)['context'].values[0]\n",
    "\n",
    "def get_question(context, answer, model, tokenizer):\n",
    "    \"\"\"Generate a question for the given answer and context.\"\"\"\n",
    "    answer_span = context.replace(answer, f\"<hl>{answer}<hl>\", 1) + \"</s>\"\n",
    "    inputs = tokenizer(answer_span, return_tensors=\"pt\")\n",
    "    question = model.generate(input_ids=inputs.input_ids, max_length=50)[0]\n",
    "\n",
    "    return tokenizer.decode(question, skip_special_tokens=True)\n",
    "\n",
    "def get_nouns_multipartite(content):\n",
    "    \"\"\"Extract keywords from content using MultipartiteRank algorithm.\"\"\"\n",
    "    try:\n",
    "        extractor = pke.unsupervised.MultipartiteRank() # type: ignore\n",
    "        extractor.load_document(input=content, language='en')\n",
    "        pos_tags = {'PROPN', 'NOUN', 'ADJ', 'VERB', 'ADP', 'ADV', 'DET', 'CONJ', 'NUM', 'PRON', 'X'}\n",
    "\n",
    "        stoplist = list(string.punctuation) + ['-lrb-', '-rrb-', '-lcb-', '-rcb-', '-lsb-', '-rsb-']\n",
    "        stoplist += stopwords.words('english')\n",
    "\n",
    "        extractor.candidate_selection(pos=pos_tags)\n",
    "        extractor.candidate_weighting(alpha=1.1, threshold=0.75, method='average')\n",
    "        keyphrases = extractor.get_n_best(n=15)\n",
    "        \n",
    "        return [val[0] for val in keyphrases]\n",
    "    except Exception as e:\n",
    "        print(f\"Error extracting nouns: {e}\")\n",
    "        return []\n",
    "\n",
    "def get_keywords(passage):\n",
    "    \"\"\"Extract keywords using TF-IDF.\"\"\"\n",
    "    try:\n",
    "        vectorizer = TfidfVectorizer(stop_words='english')\n",
    "        tfidf_matrix = vectorizer.fit_transform([passage])\n",
    "        feature_names = vectorizer.get_feature_names_out()\n",
    "        tfidf_scores = tfidf_matrix.toarray().flatten() # type: ignore\n",
    "        word_scores = dict(zip(feature_names, tfidf_scores))\n",
    "        sorted_words = sorted(word_scores.items(), key=lambda x: x[1], reverse=True)\n",
    "        keywords = [word for word, score in sorted_words]\n",
    "        return keywords\n",
    "    except Exception as e:\n",
    "        print(f\"Error extracting keywords: {e}\")\n",
    "        return []\n",
    "\n",
    "def filter_same_sense_words(original, wordlist):\n",
    "    \"\"\"Filter words that have the same sense as the original word.\"\"\"\n",
    "    base_sense = original.split('|')[1]\n",
    "    return [word[0].split('|')[0].replace(\"_\", \" \").title().strip() for word in wordlist if word[0].split('|')[1] == base_sense]\n",
    "\n",
    "def get_max_similarity_score(wordlist, word):\n",
    "    \"\"\"Get the maximum similarity score between the word and a list of words.\"\"\"\n",
    "    return max(levenshtein.normalized_similarity(word.lower(), each.lower()) for each in wordlist)\n",
    "\n",
    "def sense2vec_get_words(word, s2v, topn, question):\n",
    "    \"\"\"Get similar words using Sense2Vec.\"\"\"\n",
    "    try:\n",
    "        sense = s2v.get_best_sense(word, senses=[\"NOUN\", \"PERSON\", \"PRODUCT\", \"LOC\", \"ORG\", \"EVENT\", \"NORP\", \"WORK_OF_ART\", \"FAC\", \"GPE\", \"NUM\", \"FACILITY\"])\n",
    "        \n",
    "        if sense is None:\n",
    "            print(f\"[DEBUG] No suitable sense found for word: '{word}'\")\n",
    "            return []\n",
    "\n",
    "        most_similar = s2v.most_similar(sense, n=topn)\n",
    "        output = filter_same_sense_words(sense, most_similar)\n",
    "        \n",
    "        threshold = 0.6\n",
    "        final = [word]\n",
    "        checklist = question.split()\n",
    "\n",
    "        for similar_word in output:\n",
    "            if get_max_similarity_score(final, similar_word) < threshold and similar_word not in final and similar_word not in checklist:\n",
    "                final.append(similar_word)\n",
    "    \n",
    "        return final[1:]\n",
    "    \n",
    "    except Exception as e:\n",
    "        print(f\"Error in Sense2Vec: {e}\")\n",
    "        return []\n",
    "\n",
    "def mmr(doc_embedding, word_embeddings, words, top_n, lambda_param):\n",
    "    \"\"\"Maximal Marginal Relevance (MMR) for keyword extraction.\"\"\"\n",
    "    try:\n",
    "        word_doc_similarity = cosine_similarity(word_embeddings, doc_embedding)\n",
    "        word_similarity = cosine_similarity(word_embeddings)\n",
    "\n",
    "        keywords_idx = [np.argmax(word_doc_similarity)]\n",
    "        candidates_idx = [i for i in range(len(words)) if i != keywords_idx[0]]\n",
    "\n",
    "        for _ in range(top_n - 1):\n",
    "            candidate_similarities = word_doc_similarity[candidates_idx, :]\n",
    "            target_similarities = np.max(word_similarity[candidates_idx][:, keywords_idx], axis=1)\n",
    "\n",
    "            mmr = (lambda_param * candidate_similarities) - ((1 - lambda_param) * target_similarities.reshape(-1, 1))\n",
    "            mmr_idx = candidates_idx[np.argmax(mmr)]\n",
    "\n",
    "            keywords_idx.append(mmr_idx) # type: ignore\n",
    "            candidates_idx.remove(mmr_idx)\n",
    "\n",
    "        return [words[idx] for idx in keywords_idx]\n",
    "    except Exception as e:\n",
    "        print(f\"Error in MMR: {e}\")\n",
    "        return []\n",
    "    \n",
    "def classify_question_type(question: str) -> str:\n",
    "    \"\"\"\n",
    "    Classify the type of question as literal, evaluative, or inferential.\n",
    "    \n",
    "    Parameters:\n",
    "        question (str): The question to classify.\n",
    "        \n",
    "    Returns:\n",
    "        str: The type of the question ('literal', 'evaluative', or 'inferential').\n",
    "    \"\"\"\n",
    "    # Define keywords or patterns for each question type\n",
    "    literal_keywords = [\n",
    "    'what', 'when', 'where', 'who', 'how many', 'how much', \n",
    "    'which', 'name', 'list', 'identify', 'define', 'describe', \n",
    "    'state', 'mention'\n",
    "    ]\n",
    "\n",
    "    evaluative_keywords = [\n",
    "    'evaluate', 'justify', 'explain why', 'assess', 'critique', \n",
    "    'discuss', 'judge', 'opinion', 'argue', 'agree or disagree', \n",
    "    'defend', 'support your answer', 'weigh the pros and cons', \n",
    "    'compare', 'contrast'\n",
    "    ]\n",
    "\n",
    "    inferential_keywords = [\n",
    "    'why', 'how', 'what if', 'predict', 'suggest', 'imply', \n",
    "    'conclude', 'infer', 'reason', 'what might', 'what could', \n",
    "    'what would happen if', 'speculate', 'deduce', 'interpret', \n",
    "    'hypothesize', 'assume'\n",
    "    ]\n",
    "\n",
    "\n",
    "    question_lower = question.lower()\n",
    "    \n",
    "    # Check for literal question keywords\n",
    "    if any(keyword in question_lower for keyword in literal_keywords):\n",
    "        return 'literal'\n",
    "    \n",
    "    # Check for evaluative question keywords\n",
    "    if any(keyword in question_lower for keyword in evaluative_keywords):\n",
    "        return 'evaluative'\n",
    "    \n",
    "    # Check for inferential question keywords\n",
    "    if any(keyword in question_lower for keyword in inferential_keywords):\n",
    "        return 'inferential'\n",
    "    \n",
    "    # Default to 'unknown' if no pattern matches\n",
    "    return 'unknown'\n",
    "\n",
    "def format_phrase(phrase):\n",
    "    \"\"\"Format phrases by replacing spaces with underscores and adding default |n.\"\"\"\n",
    "    return phrase.replace(\" \", \"_\") + \"|n\"\n",
    "\n",
    "def get_distractors(input_phrases, topn=5):\n",
    "    \"\"\"Find similar keywords for a list of input phrases using Sense2Vec and WordNet.\"\"\"\n",
    "    result_list = []\n",
    "\n",
    "    for phrase in input_phrases:\n",
    "        formatted_phrase = format_phrase(phrase)\n",
    "\n",
    "        # Check if the phrase exists in the Sense2Vec model\n",
    "        if formatted_phrase in s2v:\n",
    "            # Get similar phrases from Sense2Vec\n",
    "            similar_phrases = s2v.most_similar(formatted_phrase, n=topn)\n",
    "            similar_keywords = [item[0].split(\"|\")[0].replace(\"_\", \" \") for item in similar_phrases]\n",
    "        else:\n",
    "            # List similar keys that might exist in the model for exploration\n",
    "            print(f\"'{formatted_phrase}' not found in the model. Exploring similar available keys...\")\n",
    "            available_keys = [key for key in s2v.keys() if phrase.split()[0] in key or phrase.split()[-1] in key]\n",
    "            print(f\"Available keys related to '{phrase}': {available_keys}\")\n",
    "\n",
    "            # Use WordNet to find synonyms if available keys are empty\n",
    "            if not available_keys:\n",
    "                print(f\"No close match in the model for '{phrase}'. Trying WordNet for synonyms...\")\n",
    "                synonyms = set()\n",
    "                for syn in wn.synsets(phrase.replace(\" \", \"_\")):\n",
    "                    for lemma in syn.lemmas(): # type: ignore\n",
    "                        synonyms.add(lemma.name().replace(\"_\", \" \"))\n",
    "                similar_keywords = list(synonyms)[:topn] if synonyms else [\"No match found\"]\n",
    "            else:\n",
    "                # Provide available keys as similar suggestions\n",
    "                similar_keywords = [key.split(\"|\")[0].replace(\"_\", \" \") for key in available_keys[:topn]]\n",
    "\n",
    "        result_list.append({\n",
    "            \"phrase\": phrase,\n",
    "            \"similar_keywords\": similar_keywords\n",
    "        })\n",
    "\n",
    "    return result_list\n",
    "\n",
    "def extract_similar_keywords(input_phrases, topn=5):\n",
    "    \"\"\"Call get_distractors and extract only the similar_keywords values.\"\"\"\n",
    "    # Call the get_distractors function\n",
    "    distractors_result = get_distractors(input_phrases, topn)\n",
    "    \n",
    "    # Extract similar_keywords from the result\n",
    "    similar_keywords_list = [result[\"similar_keywords\"] for result in distractors_result]\n",
    "    \n",
    "    return similar_keywords_list\n",
    "\n"
   ]
  },
  {
   "cell_type": "code",
   "execution_count": 13,
   "metadata": {},
   "outputs": [],
   "source": [
    "def get_mca_questions(context, qg_model, qg_tokenizer, sentence_transformer_model, num_questions=5, max_attempts=2) -> List[Dict]:\n",
    "    \"\"\"\n",
    "    Generate multiple-choice questions for a given context.\n",
    "    \n",
    "    Parameters:\n",
    "        context (str): The context from which questions are generated.\n",
    "        qg_model (T5ForConditionalGeneration): The question generation model.\n",
    "        qg_tokenizer (T5Tokenizer): The tokenizer for the question generation model.\n",
    "        s2v (Sense2Vec): The Sense2Vec model for finding similar words.\n",
    "        sentence_transformer_model (SentenceTransformer): The sentence transformer model for embeddings.\n",
    "        num_questions (int): The number of questions to generate.\n",
    "        max_attempts (int): The maximum number of attempts to generate questions.\n",
    "    \n",
    "    Returns:\n",
    "        list: A list of dictionaries with questions and their corresponding distractors.\n",
    "    \"\"\"\n",
    "    output_list = []\n",
    "\n",
    "    imp_keywords = get_keywords(context)  # Extract keywords only once\n",
    "    print(f\"[DEBUG] Length: {len(imp_keywords)}, Extracted keywords: {imp_keywords}\")\n",
    "\n",
    "    generated_questions = set()\n",
    "    generated_answers = set()  # Track generated answers\n",
    "    attempts = 0\n",
    "\n",
    "    while len(output_list) < num_questions and attempts < max_attempts:\n",
    "        attempts += 1\n",
    "\n",
    "        for keyword in imp_keywords:\n",
    "            if len(output_list) >= num_questions:\n",
    "                break\n",
    "            \n",
    "            question = get_question(context, keyword, qg_model, qg_tokenizer)\n",
    "            print(f\"[DEBUG] Generated question: '{question}' for keyword: '{keyword}'\")\n",
    "            \n",
    "            # Encode the new question\n",
    "            new_question_embedding = sentence_transformer_model.encode(question, convert_to_tensor=True)\n",
    "            is_similar = False\n",
    "\n",
    "            # Check similarity with existing questions\n",
    "            for generated_q in generated_questions:\n",
    "                existing_question_embedding = sentence_transformer_model.encode(generated_q, convert_to_tensor=True)\n",
    "                similarity = cosine_similarity(new_question_embedding.unsqueeze(0), existing_question_embedding.unsqueeze(0))[0][0]\n",
    "\n",
    "                if similarity > 0.8:\n",
    "                    is_similar = True\n",
    "                    print(f\"[DEBUG] Question '{question}' is too similar to an existing question, skipping.\")\n",
    "                    break\n",
    "\n",
    "            if is_similar:\n",
    "                continue\n",
    "\n",
    "            # Generate and check answer\n",
    "            t5_answer = answer_question(question, context)\n",
    "            print(f\"[DEBUG] Generated answer: '{t5_answer}' for question: '{question}'\")\n",
    "            \n",
    "            # Skip answers longer than 3 words\n",
    "            if len(t5_answer.split()) > 3:\n",
    "                print(f\"[DEBUG] Answer '{t5_answer}' is too long, skipping.\")\n",
    "                continue\n",
    "\n",
    "            if t5_answer in generated_answers:\n",
    "                print(f\"[DEBUG] Answer '{t5_answer}' has already been generated, skipping question.\")\n",
    "                continue\n",
    "\n",
    "            generated_questions.add(question)\n",
    "            generated_answers.add(t5_answer)\n",
    "\n",
    "            # Generate distractors\n",
    "            distractors = extract_similar_keywords([t5_answer], topn=5)[0]  # Ensure this returns a list\n",
    "            print(f\"list of distractors : {distractors}\")\n",
    "            print(f\"length of distractors {len(distractors)}\")\n",
    "            print(f\"type : {type(distractors)}\")\n",
    "\n",
    "            # If no distractors were found, use important keywords as distractors\n",
    "            if not distractors or len(distractors) == 0:\n",
    "                print(\"[DEBUG] No distractors found, using important keywords as distractors.\")\n",
    "                distractors = imp_keywords\n",
    "            else:\n",
    "                # If answer is a phrase, handle distractors appropriately\n",
    "                answer_words = t5_answer.split()\n",
    "                distractors = [d for d in distractors if not any(word.lower() in t5_answer.lower() for word in answer_words)]\n",
    "                distractors = [d.capitalize() for d in distractors if d.lower() != keyword.lower()]\n",
    "\n",
    "                if len(distractors) < 3:\n",
    "                    additional_distractors = [kw.capitalize() for kw in imp_keywords if kw.capitalize() not in distractors and kw.lower() != keyword.lower()]\n",
    "                    distractors.extend(additional_distractors[:3 - len(distractors)])\n",
    "                else:\n",
    "                    distractors = distractors[:3]\n",
    "\n",
    "            print(f\"[DEBUG] Final distractors: {distractors} for question: '{question}'\")\n",
    "\n",
    "            choices = distractors + [t5_answer]\n",
    "            choices = [item.title() for item in choices]\n",
    "            random.shuffle(choices)\n",
    "            print(f\"[DEBUG] Options: {choices} for question: '{question}'\")\n",
    "\n",
    "            # Classify question type\n",
    "            question_type = classify_question_type(question)\n",
    "            \n",
    "            output_list.append({\n",
    "                'answer': t5_answer,\n",
    "                'answer_length': len(t5_answer),\n",
    "                'choices': choices,\n",
    "                'passage': context,\n",
    "                'passage_length': len(context),\n",
    "                'question': question,\n",
    "                'question_length': len(question),\n",
    "                'question_type': question_type\n",
    "            })\n",
    "\n",
    "        print(f\"[DEBUG] Generated {len(output_list)} questions so far after {attempts} attempts\")\n",
    "\n",
    "    return output_list[:num_questions]"
   ]
  },
  {
   "cell_type": "code",
   "execution_count": 14,
   "metadata": {},
   "outputs": [
    {
     "name": "stdout",
     "output_type": "stream",
     "text": [
      "The roots of Greek success in the Ottoman Empire can be traced to the Greek tradition of education and commerce. It was the wealth of the extensive merchant class that provided the material basis for the intellectual revival that was the prominent feature of Greek life in the half century and more leading to the outbreak of the Greek War of Independence in 1821. Not coincidentally, on the eve of 1821, the three most important centres of Greek learning were situated in Chios, Smyrna and Aivali, all three major centres of Greek commerce. Greek success was also favoured by Greek domination of the Christian Orthodox church.\n",
      "[DEBUG] Length: 43, Extracted keywords: ['greek', '1821', 'centres', 'commerce', 'success', 'aivali', 'basis', 'century', 'chios', 'christian', 'church', 'class', 'coincidentally', 'domination', 'education', 'empire', 'eve', 'extensive', 'favoured', 'feature', 'half', 'important', 'independence', 'intellectual', 'leading', 'learning', 'life', 'major', 'material', 'merchant', 'orthodox', 'ottoman', 'outbreak', 'prominent', 'provided', 'revival', 'roots', 'situated', 'smyrna', 'traced', 'tradition', 'war', 'wealth']\n"
     ]
    },
    {
     "name": "stderr",
     "output_type": "stream",
     "text": [
      "Both `max_new_tokens` (=200) and `max_length`(=512) seem to have been set. `max_new_tokens` will take precedence. Please refer to the documentation for more information. (https://huggingface.co/docs/transformers/main/en/main_classes/text_generation)\n"
     ]
    },
    {
     "name": "stdout",
     "output_type": "stream",
     "text": [
      "[DEBUG] Generated question: 'What was the name of the three most important centres of Greek commerce?' for keyword: 'greek'\n",
      "[DEBUG] Generated answer: 'Chios, smyrna and aivali' for question: 'What was the name of the three most important centres of Greek commerce?'\n",
      "[DEBUG] Answer 'Chios, smyrna and aivali' is too long, skipping.\n"
     ]
    },
    {
     "name": "stderr",
     "output_type": "stream",
     "text": [
      "Both `max_new_tokens` (=200) and `max_length`(=512) seem to have been set. `max_new_tokens` will take precedence. Please refer to the documentation for more information. (https://huggingface.co/docs/transformers/main/en/main_classes/text_generation)\n"
     ]
    },
    {
     "name": "stdout",
     "output_type": "stream",
     "text": [
      "[DEBUG] Generated question: 'When did the Greek War of Independence begin?' for keyword: '1821'\n",
      "[DEBUG] Generated answer: '1821' for question: 'When did the Greek War of Independence begin?'\n",
      "'1821|n' not found in the model. Exploring similar available keys...\n",
      "Available keys related to '1821': ['__^Ɍ1821|X', '1821|DATE', '1821|NUM']\n",
      "list of distractors : ['  ^Ɍ1821', '1821', '1821']\n",
      "length of distractors 3\n",
      "type : <class 'list'>\n",
      "[DEBUG] Final distractors: ['Greek', 'Centres', 'Commerce'] for question: 'When did the Greek War of Independence begin?'\n",
      "[DEBUG] Options: ['Centres', 'Greek', 'Commerce', '1821'] for question: 'When did the Greek War of Independence begin?'\n"
     ]
    },
    {
     "name": "stderr",
     "output_type": "stream",
     "text": [
      "Both `max_new_tokens` (=200) and `max_length`(=512) seem to have been set. `max_new_tokens` will take precedence. Please refer to the documentation for more information. (https://huggingface.co/docs/transformers/main/en/main_classes/text_generation)\n"
     ]
    },
    {
     "name": "stdout",
     "output_type": "stream",
     "text": [
      "[DEBUG] Generated question: 'Chios, Smyrna and Aivali were the three most important what of Greek learning?' for keyword: 'centres'\n",
      "[DEBUG] Generated answer: 'Centres of greek learning' for question: 'Chios, Smyrna and Aivali were the three most important what of Greek learning?'\n",
      "[DEBUG] Answer 'Centres of greek learning' is too long, skipping.\n"
     ]
    },
    {
     "name": "stderr",
     "output_type": "stream",
     "text": [
      "Both `max_new_tokens` (=200) and `max_length`(=512) seem to have been set. `max_new_tokens` will take precedence. Please refer to the documentation for more information. (https://huggingface.co/docs/transformers/main/en/main_classes/text_generation)\n"
     ]
    },
    {
     "name": "stdout",
     "output_type": "stream",
     "text": [
      "[DEBUG] Generated question: 'The roots of Greek success in the Ottoman Empire can be traced to the Greek tradition of education and what?' for keyword: 'commerce'\n",
      "[DEBUG] Generated answer: 'Commerce' for question: 'The roots of Greek success in the Ottoman Empire can be traced to the Greek tradition of education and what?'\n",
      "'Commerce|n' not found in the model. Exploring similar available keys...\n",
      "Available keys related to 'Commerce': ['Commerce|NOUN', 'WooCommerce|ORG', 'Commerce_City|GPE', 'Chamber_of_Commerce|ORG', 'BigCommerce|NOUN', 'Commerce|ORG', 'the_Department_of_Commerce|ORG', 'the_Chamber_of_Commerce|ORG', 'Commerce_Department|ORG', 'WooCommerce|NOUN', 'Commerce_Clause|ORG', 'eCommerce_site|NOUN', 'eCommerce|NOUN', 'Commerce_Clause|NOUN']\n",
      "list of distractors : ['Commerce', 'WooCommerce', 'Commerce City', 'Chamber of Commerce', 'BigCommerce']\n",
      "length of distractors 5\n",
      "type : <class 'list'>\n",
      "[DEBUG] Final distractors: ['Greek', '1821', 'Centres'] for question: 'The roots of Greek success in the Ottoman Empire can be traced to the Greek tradition of education and what?'\n",
      "[DEBUG] Options: ['1821', 'Commerce', 'Centres', 'Greek'] for question: 'The roots of Greek success in the Ottoman Empire can be traced to the Greek tradition of education and what?'\n"
     ]
    },
    {
     "name": "stderr",
     "output_type": "stream",
     "text": [
      "Both `max_new_tokens` (=200) and `max_length`(=512) seem to have been set. `max_new_tokens` will take precedence. Please refer to the documentation for more information. (https://huggingface.co/docs/transformers/main/en/main_classes/text_generation)\n"
     ]
    },
    {
     "name": "stdout",
     "output_type": "stream",
     "text": [
      "[DEBUG] Generated question: 'What was the Greek tradition of education and commerce based on?' for keyword: 'success'\n",
      "[DEBUG] Generated answer: 'Greek tradition of education and commerce' for question: 'What was the Greek tradition of education and commerce based on?'\n",
      "[DEBUG] Answer 'Greek tradition of education and commerce' is too long, skipping.\n"
     ]
    },
    {
     "name": "stderr",
     "output_type": "stream",
     "text": [
      "Both `max_new_tokens` (=200) and `max_length`(=512) seem to have been set. `max_new_tokens` will take precedence. Please refer to the documentation for more information. (https://huggingface.co/docs/transformers/main/en/main_classes/text_generation)\n"
     ]
    },
    {
     "name": "stdout",
     "output_type": "stream",
     "text": [
      "[DEBUG] Generated question: 'What was the name of the three most important centres of Greek commerce?' for keyword: 'aivali'\n",
      "[DEBUG] Generated answer: 'Chios, smyrna and aivali' for question: 'What was the name of the three most important centres of Greek commerce?'\n",
      "[DEBUG] Answer 'Chios, smyrna and aivali' is too long, skipping.\n",
      "[DEBUG] Generated question: 'What did the wealth of the merchant class provide for the intellectual revival?' for keyword: 'basis'\n"
     ]
    },
    {
     "name": "stderr",
     "output_type": "stream",
     "text": [
      "Both `max_new_tokens` (=200) and `max_length`(=512) seem to have been set. `max_new_tokens` will take precedence. Please refer to the documentation for more information. (https://huggingface.co/docs/transformers/main/en/main_classes/text_generation)\n"
     ]
    },
    {
     "name": "stdout",
     "output_type": "stream",
     "text": [
      "[DEBUG] Generated answer: 'Greek domination of the christian orthodox church' for question: 'What did the wealth of the merchant class provide for the intellectual revival?'\n",
      "[DEBUG] Answer 'Greek domination of the christian orthodox church' is too long, skipping.\n",
      "[DEBUG] Generated question: 'During what century did the Greek War of Independence begin?' for keyword: 'century'\n",
      "[DEBUG] Question 'During what century did the Greek War of Independence begin?' is too similar to an existing question, skipping.\n",
      "[DEBUG] Generated question: 'What was the name of the three most important centres of Greek commerce?' for keyword: 'chios'\n"
     ]
    },
    {
     "name": "stderr",
     "output_type": "stream",
     "text": [
      "Both `max_new_tokens` (=200) and `max_length`(=512) seem to have been set. `max_new_tokens` will take precedence. Please refer to the documentation for more information. (https://huggingface.co/docs/transformers/main/en/main_classes/text_generation)\n"
     ]
    },
    {
     "name": "stdout",
     "output_type": "stream",
     "text": [
      "[DEBUG] Generated answer: 'Chios, smyrna and aivali' for question: 'What was the name of the three most important centres of Greek commerce?'\n",
      "[DEBUG] Answer 'Chios, smyrna and aivali' is too long, skipping.\n",
      "[DEBUG] Generated question: 'What was the name of the three most important centres of Greek commerce?' for keyword: 'christian'\n"
     ]
    },
    {
     "name": "stderr",
     "output_type": "stream",
     "text": [
      "Both `max_new_tokens` (=200) and `max_length`(=512) seem to have been set. `max_new_tokens` will take precedence. Please refer to the documentation for more information. (https://huggingface.co/docs/transformers/main/en/main_classes/text_generation)\n"
     ]
    },
    {
     "name": "stdout",
     "output_type": "stream",
     "text": [
      "[DEBUG] Generated answer: 'Chios, smyrna and aivali' for question: 'What was the name of the three most important centres of Greek commerce?'\n",
      "[DEBUG] Answer 'Chios, smyrna and aivali' is too long, skipping.\n",
      "[DEBUG] Generated question: 'Greek domination of what church favoured Greek success?' for keyword: 'church'\n"
     ]
    },
    {
     "name": "stderr",
     "output_type": "stream",
     "text": [
      "Both `max_new_tokens` (=200) and `max_length`(=512) seem to have been set. `max_new_tokens` will take precedence. Please refer to the documentation for more information. (https://huggingface.co/docs/transformers/main/en/main_classes/text_generation)\n"
     ]
    },
    {
     "name": "stdout",
     "output_type": "stream",
     "text": [
      "[DEBUG] Generated answer: 'The christian orthodox church' for question: 'Greek domination of what church favoured Greek success?'\n",
      "[DEBUG] Answer 'The christian orthodox church' is too long, skipping.\n"
     ]
    },
    {
     "name": "stderr",
     "output_type": "stream",
     "text": [
      "Both `max_new_tokens` (=200) and `max_length`(=512) seem to have been set. `max_new_tokens` will take precedence. Please refer to the documentation for more information. (https://huggingface.co/docs/transformers/main/en/main_classes/text_generation)\n"
     ]
    },
    {
     "name": "stdout",
     "output_type": "stream",
     "text": [
      "[DEBUG] Generated question: 'What class provided the material basis for the intellectual revival?' for keyword: 'class'\n",
      "[DEBUG] Generated answer: 'Greek domination of the christian orthodox church' for question: 'What class provided the material basis for the intellectual revival?'\n",
      "[DEBUG] Answer 'Greek domination of the christian orthodox church' is too long, skipping.\n"
     ]
    },
    {
     "name": "stderr",
     "output_type": "stream",
     "text": [
      "Both `max_new_tokens` (=200) and `max_length`(=512) seem to have been set. `max_new_tokens` will take precedence. Please refer to the documentation for more information. (https://huggingface.co/docs/transformers/main/en/main_classes/text_generation)\n"
     ]
    },
    {
     "name": "stdout",
     "output_type": "stream",
     "text": [
      "[DEBUG] Generated question: 'How did the three most important centres of Greek learning occur on the eve of 1821?' for keyword: 'coincidentally'\n",
      "[DEBUG] Generated answer: 'Chios, smyrna and aivali' for question: 'How did the three most important centres of Greek learning occur on the eve of 1821?'\n",
      "[DEBUG] Answer 'Chios, smyrna and aivali' is too long, skipping.\n",
      "[DEBUG] Generated question: 'What was the Greeks' favor of the Christian Orthodox church?' for keyword: 'domination'\n"
     ]
    },
    {
     "name": "stderr",
     "output_type": "stream",
     "text": [
      "Both `max_new_tokens` (=200) and `max_length`(=512) seem to have been set. `max_new_tokens` will take precedence. Please refer to the documentation for more information. (https://huggingface.co/docs/transformers/main/en/main_classes/text_generation)\n"
     ]
    },
    {
     "name": "stdout",
     "output_type": "stream",
     "text": [
      "[DEBUG] Generated answer: 'Greek domination' for question: 'What was the Greeks' favor of the Christian Orthodox church?'\n",
      "'Greek_domination|n' not found in the model. Exploring similar available keys...\n",
      "Available keys related to 'Greek domination': ['Greek_texts|NOUN', 'Greek_girl|NOUN', 'Greek_guy|NOUN', 'Greek_state|NOUN', 'Greektown|PERSON', 'Greek_myths|NOUN', 'domination_games|NOUN', 'Greek_gods|NOUN', 'Greek_voters|NOUN', 'Greek_origin|NOUN', 'male_domination|NOUN', 'Greek_system|NOUN', 'Greek_world|NOUN', 'Greeks|PERSON', 'Greek|ORG', 'Greek_society|NOUN', 'Greek_people|NOUN', 'Greek_goddess|NOUN', 'Greek_name|NOUN', 'Greek_yogurt|NOUN', 'Greek_Freak|ORG', 'Greek_Life|ORG', 'most_Greeks|NORP', 'Greek_banks|NOUN', 'Greek_parliament|NOUN', 'Greek_organization|NOUN', 'Greek_houses|NOUN', 'Greek_bailout|NOUN', 'ancient_Greeks|NORP', 'ancient_Greek|NORP', 'Greek_citizens|NOUN', 'Greek_Yogurt|ORG', 'Greektown|NOUN', 'Greek_alphabet|NOUN', 'Greek_names|NOUN', 'Ancient_Greek|ORG', 'Greek_philosophy|NOUN', 'Greek_Mythology|NOUN', 'lazy_Greeks|NORP', 'modern_Greek|NORP', 'Greek_Mythology|ORG', 'domination_mode|NOUN', 'domination_sessions|NOUN', 'Greek_cities|NOUN', 'Greek_organizations|NOUN', 'Greek_translation|NOUN', 'Greek_restaurant|NOUN', 'Greek_politicians|NOUN', 'Greek_history|NOUN', 'Greek_elections|NOUN', 'Greek_Yogurt|PERSON', 'Greek_culture|NOUN', 'domination_thing|NOUN', 'Modern_Greek|NOUN', 'Greek_version|NOUN', 'Greek_Pantheon|NOUN', 'Greek|WORK_OF_ART', 'Greek|ADJ', 'total_domination|NOUN', 'physical_domination|NOUN', 'Greek_debt_crisis|NOUN', 'Greek_god|NOUN', 'Greek](https://en.wikipedia.org/wiki/Greek_language|NOUN', 'Greek_government|NOUN', 'average_Greek|NORP', 'Greek_island|NOUN', 'Greek_debt|NOUN', 'Greek_economy|NOUN', 'World_domination|NOUN', 'Greektown|GPE', 'Greek_philosopher|NOUN', 'Ancient_Greek|NOUN', 'Greeks|NORP', 'Greek_Gods|NOUN', 'Greek_word|NOUN', 'Greek_words|NOUN', 'Greek_Yogurt|NOUN', 'Greek_roots|NOUN', 'Greek_islands|NOUN', 'Greek_population|NOUN', 'Ancient_Greek](https://en.wikipedia.org/wiki/Ancient_Greek|NOUN', 'Greek_letter|NOUN', 'new_Greek_government|NOUN', 'Greek_mythology](https://en.wikipedia.org/wiki/Greek_mythology|NOUN', 'Greek_bonds|NOUN', 'Greek_media|NOUN', 'Greek_politics|NOUN', 'Greek_food|NOUN', 'Greek_religion|NOUN', 'world_domination|NOUN', 'Greek_governments|NOUN', 'Greek_salad|NOUN', 'Greek](https://en.wikipedia.org/wiki/Ancient_Greek|NOUN', 'Greek_freak|NOUN', 'Greek_language|NOUN', 'Greek_ones|NOUN', 'many_Greeks|NORP', 'mythology](https://en.wikipedia.org/wiki/Greek_mythology|NOUN', 'dominations|NOUN', 'Greek|NOUN', 'Greek_side|NOUN', 'Greek_root|NOUN', 'complete_domination|NOUN', 'domination|NOUN', 'Greek_city|NOUN', 'utter_domination|NOUN', 'Greek_letters|NOUN', 'Greek_problem|NOUN', 'Koine_Greek|PERSON', 'Greek_life|NOUN', 'Greek_fire|NOUN', 'Greek_Cypriots|NOUN', 'Greek_form|NOUN', 'Big_Fat_Greek_Wedding|NOUN', 'Greek_Life|NOUN', 'Greek_exit|NOUN', 'Greek_person|NOUN', 'global_domination|NOUN', 'Greek_literature|NOUN', 'Greek_Freak|NOUN', 'Greek_yoghurt|NOUN', 'plain_Greek_yogurt|NOUN', 'Greek_tragedy|NOUN', 'Greek_Mythology|PERSON', 'other_Greeks|NORP', 'Greeks|NOUN', 'Greek_text|NOUN', 'absolute_domination|NOUN', 'domination_victory|NOUN', 'Independent_Greeks|NOUN', 'original_Greek|NORP', 'Greek_city_states|NOUN', 'Greek_mythology|NOUN', 'Greek_philosophers|NOUN', 'Greek_myth|NOUN', 'female_domination|NOUN', 'financial_domination|NOUN', 'Ancient_Greeks|NOUN', 'Greek_pantheon|NOUN', 'Greek_Orthodox|PERSON', 'Greek|LOC', 'Greek_Freak|PERSON', 'Greek|NORP', 'Greek_authorities|NOUN', 'Greek_situation|NOUN', 'Greek|LANGUAGE', 'Greeks|ORG', 'Greek_community|NOUN', 'Greek|PERSON', 'Greek_default|NOUN', 'Greek_finance_minister|NOUN', 'Greek|GPE', 'Greek_statue|NOUN', 'domination_victories|NOUN', 'domination_game|NOUN', 'Independent_Greeks|ORG', 'Greek_God|NOUN', 'Greek_crisis|NOUN']\n",
      "list of distractors : ['Greek texts', 'Greek girl', 'Greek guy', 'Greek state', 'Greektown']\n",
      "length of distractors 5\n",
      "type : <class 'list'>\n",
      "[DEBUG] Final distractors: ['Greek', '1821', 'Centres'] for question: 'What was the Greeks' favor of the Christian Orthodox church?'\n",
      "[DEBUG] Options: ['Greek', 'Centres', '1821', 'Greek Domination'] for question: 'What was the Greeks' favor of the Christian Orthodox church?'\n",
      "[DEBUG] Generated question: 'What was the main source of success in the Ottoman Empire?' for keyword: 'education'\n"
     ]
    },
    {
     "name": "stderr",
     "output_type": "stream",
     "text": [
      "Both `max_new_tokens` (=200) and `max_length`(=512) seem to have been set. `max_new_tokens` will take precedence. Please refer to the documentation for more information. (https://huggingface.co/docs/transformers/main/en/main_classes/text_generation)\n"
     ]
    },
    {
     "name": "stdout",
     "output_type": "stream",
     "text": [
      "[DEBUG] Generated answer: 'Greek tradition of education and commerce' for question: 'What was the main source of success in the Ottoman Empire?'\n",
      "[DEBUG] Answer 'Greek tradition of education and commerce' is too long, skipping.\n",
      "[DEBUG] Generated question: 'What was the name of the three most important centres of Greek commerce?' for keyword: 'empire'\n"
     ]
    },
    {
     "name": "stderr",
     "output_type": "stream",
     "text": [
      "Both `max_new_tokens` (=200) and `max_length`(=512) seem to have been set. `max_new_tokens` will take precedence. Please refer to the documentation for more information. (https://huggingface.co/docs/transformers/main/en/main_classes/text_generation)\n"
     ]
    },
    {
     "name": "stdout",
     "output_type": "stream",
     "text": [
      "[DEBUG] Generated answer: 'Chios, smyrna and aivali' for question: 'What was the name of the three most important centres of Greek commerce?'\n",
      "[DEBUG] Answer 'Chios, smyrna and aivali' is too long, skipping.\n",
      "[DEBUG] Generated question: 'On what day of 1821 were the three most important centres of Greek learning located?' for keyword: 'eve'\n"
     ]
    },
    {
     "name": "stderr",
     "output_type": "stream",
     "text": [
      "Both `max_new_tokens` (=200) and `max_length`(=512) seem to have been set. `max_new_tokens` will take precedence. Please refer to the documentation for more information. (https://huggingface.co/docs/transformers/main/en/main_classes/text_generation)\n"
     ]
    },
    {
     "name": "stdout",
     "output_type": "stream",
     "text": [
      "[DEBUG] Generated answer: 'Greek domination of the christian orthodox church' for question: 'On what day of 1821 were the three most important centres of Greek learning located?'\n",
      "[DEBUG] Answer 'Greek domination of the christian orthodox church' is too long, skipping.\n",
      "[DEBUG] Generated question: 'What type of merchant class provided the material basis for the intellectual revival?' for keyword: 'extensive'\n"
     ]
    },
    {
     "name": "stderr",
     "output_type": "stream",
     "text": [
      "Both `max_new_tokens` (=200) and `max_length`(=512) seem to have been set. `max_new_tokens` will take precedence. Please refer to the documentation for more information. (https://huggingface.co/docs/transformers/main/en/main_classes/text_generation)\n"
     ]
    },
    {
     "name": "stdout",
     "output_type": "stream",
     "text": [
      "[DEBUG] Generated answer: 'Extensive merchant class' for question: 'What type of merchant class provided the material basis for the intellectual revival?'\n",
      "'Extensive_merchant_class|n' not found in the model. Exploring similar available keys...\n",
      "Available keys related to 'Extensive merchant class': ['future_classes|NOUN', 'classical_definition|NOUN', 'top_classes|NOUN', 'missed_classes|NOUN', 'in-class|NOUN', 'only_two_classes|NOUN', 'classical_Arabic|LANGUAGE', 'fewer_classes|NOUN', 'classical_mechanics|NOUN', 'classic_costume|NOUN', 'fun_classes|NOUN', 'classic_combination|NOUN', 'classified_materials|NOUN', 'class_sizes|NOUN', 'classic_rock_bands|NOUN', 'classic_albums|NOUN', 'Paladin_class|NOUN', 'only_other_class|NOUN', 'Sunday_school_class|NOUN', 'female_classmate|NOUN', 'class_X|NOUN', 'school_classes|NOUN', 'stealth_class|NOUN', 'ethics_classes|NOUN', 'art_history_class|NOUN', '3rd_grade_class|NOUN', 'failed_classes|NOUN', 'only_a_few_classes|NOUN', 'classy_Reddit|PRODUCT', 'freshman_class|NOUN', 'classic_films|NOUN', 'different_classification|NOUN', 'sniper_class|NOUN', 'spin_class|NOUN', 'entirely_new_class|NOUN', 'class_restrictions|NOUN', 'working_class_women|NOUN', 'Melee_classes|NOUN', 'slowest_class|NOUN', 'music_classes|NOUN', 'winter_classic|NOUN', 'classic_name|NOUN', 'mandatory_class|NOUN', 'classic_era|NOUN', 'different_weapon_classes|NOUN', 'small_class_sizes|NOUN', 'classified_documents|NOUN', 'class_specific|NOUN', 'classical_computer|NOUN', 'history_classes|NOUN', 'classical_musicians|NOUN', 'middle-class|NOUN', 'college_classroom|NOUN', 'anatomy_classes|NOUN', 'classiques|NOUN', 'class_enemies|NOUN', 'test_class|NOUN', 'class_stories|NOUN', 'world_class_adc|NOUN', 'better_class|NOUN', 'such_classics|NOUN', 'asset_class|NOUN', 'class_design|NOUN', 'class_choices|NOUN', 'classy_motherfucker|NOUN', 'lower_socioeconomic_class|NOUN', 'absolutely_world_class|NOUN', 'classic_response|NOUN', 'specific_classes|NOUN', 'classe|VERB', 'writing_class|NOUN', 'anger_management_classes|NOUN', 'creative_writing_class|NOUN', 'BJJ_classes|NOUN', 'same_classification|NOUN', 'shitty_class|NOUN', 'Warlock_class|NOUN', 'class_destroyer|NOUN', 'secondary_class|NOUN', 'class_photo|NOUN', 'first-class_functions|NOUN', 'http://en.wikipedia.org/wiki/Protected_class|X', 'comp_sci_class|NOUN', 'class_thing|NOUN', 'classes|NOUN', 'completely_different_class|NOUN', 'multiple_classes|NOUN', 'class_legendaries|NOUN', 'class_materials|NOUN', 'class_environment|NOUN', 'intermediate_class|NOUN', 'cult_classics|NOUN', 'classroom_training|NOUN', 'classpect|NOUN', 'classical_texts|NOUN', 'PS1_classics|NOUN', 'class_field_trip|NOUN', 'how_many_classes|NOUN', 'night_classes|NOUN', 'lower_and_middle_classes|NOUN', 'battle_class|NOUN', 'acting_classes|NOUN', 'world_class_education|NOUN', 'middleclass|NOUN', 'class_average|NOUN', 'middle-class_lifestyle|NOUN', 'EMT_class|NOUN', 'basic_class|NOUN', 'absolute_classic|NOUN', 'nursing_classes|NOUN', 'class_performance|NOUN', 'useless_classes|NOUN', 'static_classes|NOUN', '/r/photoclass2015|NOUN', 'classic_series|NOUN', 'communications_class|NOUN', '_classes|NOUN', 'Physics_class|NOUN', 'lower_division_classes|NOUN', 'String_class|NOUN', 'world-class_players|NOUN', 'law_class|NOUN', 'class_rank|NOUN', 'programming_class|NOUN', 'remedial_class|NOUN', 'own_weight_class|NOUN', 'classic_dungeons|NOUN', 'right_class|NOUN', 'white_and_middle_class|NOUN', 'free_class|NOUN', 'weak_class|NOUN', 'drug_classes|NOUN', 'many_classmates|NOUN', 'geography_class|NOUN', 'outclassed|VERB', 'creative_writing_classes|NOUN', 'Spanish_class|NOUN', 'martial_classes|NOUN', 'middle_class_lifestyle|NOUN', 'am_class|NOUN', 'classical,_jazz|NOUN', 'literature_classes|NOUN', 'class_society|NOUN', 'classy_player|NOUN', 'gifted_class|NOUN', 'X_class|NOUN', 'middle_class_incomes|NOUN', 'classical_tradition|NOUN', 'networking_class|NOUN', 'astronomy_class|NOUN', 'necessary_classes|NOUN', 'night_class|NOUN', 'real_class|NOUN', 'recruiting_classes|NOUN', 'first_class_functions|NOUN', 'classic_literature|NOUN', 'other_protected_classes|NOUN', 'class_power|NOUN', 'support_class|NOUN', 'weight_training_class|NOUN', 'theory_classes|NOUN', 'philosophy_classes|NOUN', 'class_list|NOUN', 'respective_class|NOUN', 'heavy_classes|NOUN', 'criminal_class|NOUN', 'classically_trained_pianist|NOUN', 'class/spec|NOUN', 'Multiclassing|NOUN', 'class_bully|NOUN', 'ballet_class|NOUN', 'preferred_classes|NOUN', 'classic|NOUN', 'drama_class|NOUN', 'privileged_class|NOUN', 'psychology_classes|NOUN', 'custom_classes|NOUN', 'judo_class|NOUN', 'high_school_classmate|NOUN', 'class_issues|NOUN', 'Working_class|NOUN', 'Math_classes|NOUN', 'highest_class|NOUN', 'class_levels|NOUN', 'Japanese_classes|NOUN', 'credit_classes|NOUN', 'only_class|NOUN', 'skipping_class|NOUN', 'working_class_areas|NOUN', 'more_than_one_class|NOUN', 'classic_show|NOUN', 'econ_classes|NOUN', '5th_grade_class|NOUN', 'class_E|NOUN', 'photography_class|NOUN', 'weekend_classes|NOUN', 'last_classes|NOUN', 'science_classroom|NOUN', 'time_classic|NOUN', 'best_class|NOUN', 'void_subclass|NOUN', 'chemistry_class|NOUN', 'classic_film|NOUN', 'current_classes|NOUN', 'upper_middle_class_people|NOUN', 'misclassified|VERB', 'racial_classifications|NOUN', 'Philosophy_class|NOUN', 'class_trainer|NOUN', 'class_stuff|NOUN', 'great_classics|NOUN', 'classic_scene|NOUN', 'class_ones|NOUN', 'classical_piece|NOUN', 'classic_player|NOUN', 'new_classmates|NOUN', 'required_classes|NOUN', 'favourite_class|NOUN', 'American_working_class|NOUN', 'classical_limit|NOUN', 'statistics_class|NOUN', 'top_class_player|NOUN', 'karate_class|NOUN', 'single_class|NOUN', 'reclassify|VERB', 'lowest_classes|NOUN', 'Religion_class|NOUN', 'damn_class|NOUN', 'race/class|NOUN', 'empty_classroom|NOUN', 'classifies|VERB', 'class_names|NOUN', 'D_class|NOUN', 'parent_class|NOUN', 'sophomore_class|NOUN', 'same_classes|NOUN', 'high_school_classmates|NOUN', 'calc_classes|NOUN', 'world_class_manager|NOUN', 'world_class_strikers|NOUN', 'classical_conditioning|NOUN', 'class_item|NOUN', 'creative_class|NOUN', 'power_classes|NOUN', 'anger_management_class|NOUN', '_class|NOUN', 'tanking_class|NOUN', 'Support_class|NOUN', 'class_abilities|NOUN', 'lower_social_class|NOUN', 'classless_society|NOUN', 'self_defense_class|NOUN', 'other_classifications|NOUN', 'equivalence_class|NOUN', 'strongest_classes|NOUN', 'trig_class|NOUN', 'world_class_city|NOUN', 'static_class|NOUN', 'classical_Greece|GPE', 'local_classes|NOUN', 'summer_classes|NOUN', 'classic_image|NOUN', 'Title_II_classification|NOUN', 'morning_class|NOUN', 'middle_class_white_men|NOUN', 'poor_class|NOUN', 'classic_innovators|NOUN', 'fastest_class|NOUN', 'literary_classics|NOUN', 'Middle_class_people|NOUN', 'classic_theme|NOUN', 'business_class|NOUN', 'classic_server|NOUN', 'A_class|NOUN', 'writing_classes|NOUN', 'css_class|NOUN', 'multiclassing|NOUN', 'individual_class|NOUN', 'first_two_classes|NOUN', 'preschool_class|NOUN', 'white,_middle_class|NOUN', 'high_school_chemistry_class|NOUN', 'theology_classes|NOUN', 'other_tank_classes|NOUN', 'classist|NOUN', 'ecigclassifieds|NOUN', 'most_popular_classes|NOUN', 'major_classes|NOUN', 'poor_or_middle_class|NOUN', 'good_classes|NOUN', 'yoga_classes|NOUN', 'abstract_classes|NOUN', 'classic_examples|NOUN', 'early_morning_class|NOUN', 'reclass|NOUN', 'privileged_classes|NOUN', 'dance_class|NOUN', 'appropriate_class|NOUN', 'classy_gentleman|NOUN', 'classroom_discussion|NOUN', 'older_classics|NOUN', 'computer_classes|NOUN', 'average_class|NOUN', 'said_class|NOUN', 'class/|NOUN', 'weekly_class|NOUN', 'high_school_gym_class|NOUN', 'classic_quote|NOUN', 'classic_gameplay|NOUN', 'investor_class|NOUN', 'fake_classes|NOUN', 'AP_English_class|NOUN', 'parenting_class|NOUN', 'classic_album|NOUN', 'childbirth_class|NOUN', 'high_school_history_class|NOUN', 'ipod_classic|NOUN', 'Subclass|NOUN', 'normal_class|NOUN', 'classification_board|NOUN', 'class_leader|NOUN', 'classy_guys|NOUN', 'class_differences|NOUN', 'classified_information|NOUN', '7th_grade_science_class|NOUN', 'class_variables|NOUN', 'lower_middle_class_family|NOUN', 'class_man|NOUN', 'university_class|NOUN', 'light_classes|NOUN', 'random_classes|NOUN', 'ranger_class|NOUN', 'sex-ed_class|NOUN', '6th_grade_class|NOUN', 'Unclassified|ADJ', 'class_methods|NOUN', 'personal_finance_class|NOUN', 'special_class|NOUN', 'financial_class|NOUN', 'medic_class|NOUN', 'boxing_classes|NOUN', 'class_guides|NOUN', 'classic_titles|NOUN', 'linguistics_class|NOUN', 'player_class|NOUN', 'stats_classes|NOUN', 'elective_classes|NOUN', 'psych_class|NOUN', 'draft_classes|NOUN', 'human_sexuality_class|NOUN', 'so_many_classes|NOUN', '10th_class|NOUN', 'female_classmates|NOUN', 'noun_classes|NOUN', 'classist|VERB', 'classicists|NOUN', 'interesting_class|NOUN', 'permanent_underclass|NOUN', 'weaker_class|NOUN', 'classes/specs|NOUN', 'different_weight_class|NOUN', 'class_system|NOUN', 'general_class|NOUN', 'classy_move|NOUN', 'subclass|VERB', 'German_class|NOUN', 'poor_and_middle_class|NOUN', 'classic_muscle_car|NOUN', 'scientific_classification|NOUN', 'class_year|NOUN', 'science_classes|NOUN', 'middle_class_folks|NOUN', 'white_middle_class|NOUN', 'ethics_class|NOUN', 'gender_studies_class|NOUN', 'the_end_of_class|DATE', 'junior_class|NOUN', 'interesting_classes|NOUN', 'relevant_classes|NOUN', 'nutrition_class|NOUN', 'cross_class|NOUN', 'various_classes|NOUN', 'class_fun|NOUN', 'game_design_class|NOUN', 'classical_instruments|NOUN', 'classified_ads|NOUN', 'classic_narcissist|NOUN', 'classlessness|NOUN', 'top_class|NOUN', 'classical_mythology|NOUN', 'self_defense_classes|NOUN', 'middle_class_background|NOUN', 'classroom_experience|NOUN', 'job_classes|NOUN', 'previous_classes|NOUN', 'class_discrimination|NOUN', 'too_much_class|NOUN', 'classical_song|NOUN', 'tank_classes|NOUN', 'specific_class|NOUN', 'classified_material|NOUN', 'classified_files|NOUN', 'class_selection|NOUN', 'core_class|NOUN', 'class/role|NOUN', 'different_subclasses|NOUN', 'peasant_class|NOUN', 'second_grade_class|NOUN', 'chemistry_classes|NOUN', 'art_class|NOUN', 'typing_class|NOUN', 'much_class|NOUN', 'AM_class|NOUN', 'multiclass|NOUN', 'high_class|NOUN', 'masterclasses|NOUN', 'Bible_class|NOUN', 'cross-class_skills|NOUN', 'lower_class_people|NOUN', 'poor_and_middle_class_people|NOUN', 'classical_liberalism|NOUN', 'most_fun_class|NOUN', 'classy_bunch|NOUN', 'working_class_families|NOUN', 'classic_status|NOUN', 'nice_class|NOUN', 'classic_cards|NOUN', 'classy_place|NOUN', 'class_mats|NOUN', 'online_classifieds|NOUN', 'class_cards|NOUN', 'underclassman|NOUN', 'classic_books|NOUN', 'working_and_middle_classes|NOUN', 'poor_and_middle_classes|NOUN', 'cult_classic|NOUN', 'very_few_classes|NOUN', 'grad_class|NOUN', 'same_social_class|NOUN', '/r/ecigclassifieds|NOUN', 'crafting_class|NOUN', '1st_grade_class|NOUN', 'Java_class|NOUN', 'declassify|VERB', 'misclassified|ADJ', 'different_classifications|NOUN', 'design_classes|NOUN', 'elite_class|NOUN', 'starting_class|NOUN', 'pilates_class|NOUN', 'magic_classes|NOUN', 'person_classes|NOUN', 'classic_move|NOUN', 'new_classification|NOUN', 'anatomy_class|NOUN', 'drawing_classes|NOUN', 'oppressed_class|NOUN', 'Galaxy_class|NOUN', 'elementary_school_class|NOUN', '/r/classic4chan|NOUN', 'CCW_class|NOUN', 'art_history_classes|NOUN', 'classic_liberalism|NOUN', 'thief_class|NOUN', 'sociology_classes|NOUN', 'business_classes|NOUN', 'class_method|NOUN', 'theory_class|NOUN', 'world_class_athletes|NOUN', 'gifted_classes|NOUN', 'afternoon_classes|NOUN', 'other_subclasses|NOUN', 'cross_classes|NOUN', 'working_classes|NOUN', 'really_fun_class|NOUN', 'classic_styles|NOUN', 'early_class|NOUN', 'Assault_class|NOUN', 'classic_character|NOUN', 'middle/upper_class|NOUN', 'classical_guitarist|NOUN', '2nd_class|NOUN', 'cooking_class|NOUN', 'classic_design|NOUN', 'upper_middle_class|NOUN', 'class~~|NOUN', 'classname|NOUN', 'level_class|NOUN', 'intro_classes|NOUN', 'recon_class|NOUN', 'free_classes|NOUN', 'classy_dude|NOUN', 'painting_class|NOUN', 'classy_lady|NOUN', 'physiology_class|NOUN', 'Latin_class|NOUN', 'classic_style|NOUN', 'new_classes|NOUN', 'classical_sense|NOUN', 'poor_and_working_class|NOUN', 'classes/builds|NOUN', 'instant_classics|NOUN', '8th_grade_class|NOUN', 'economics_class|NOUN', 'advanced_class|NOUN', 'teaching_classes|NOUN', 'lecture_class|NOUN', 'low_class|NOUN', 'class_politics|NOUN', 'comfortably_middle_class|NOUN', 'entire_class_period|NOUN', 'lower-class|NOUN', 'world_class_players|NOUN', 'middle_class_guy|NOUN', 'stealth_classes|NOUN', 'Nimitz_class|NOUN', 'alt_classes|NOUN', 'class_roles|NOUN', 'classical_critics|NOUN', 'more_classics|NOUN', 'just_the_class|NOUN', 'separate_classes|NOUN', 'class_mates|NOUN', 'freshman_classes|NOUN', 'bio_classes|NOUN', 'classical_economics|NOUN', 'poorer_classes|NOUN', 'classic_start_menu|NOUN', 'classic_buckle|NOUN', 'class_ring|NOUN', 'accounting_classes|NOUN', 'STEM_classes|NOUN', 'nursing_class|NOUN', 'top_class_players|NOUN', 'kids_class|NOUN', 'class_forums|NOUN', 'geometry_class|NOUN', 'sub-class|NOUN', 'intellectual_class|NOUN', 'separate_class|NOUN', 'world-class|NOUN', 'class_definitions|NOUN', 'classic_bait|NOUN', 'classism|NOUN', 'full_time_classes|NOUN', 'special_needs_class|NOUN', 'class_requirement|NOUN', 'academy_class|NOUN', 'hot_yoga_class|NOUN', 'entirely_different_class|NOUN', 'class_pet|NOUN', 'classical_theists|NOUN', 'small_class|NOUN', 'classic_book|NOUN', 'breastfeeding_class|NOUN', 'classic_choice|NOUN', 'oppressed_classes|NOUN', 'classic_cars|NOUN', 'enough_classes|NOUN', 'self-defense_classes|NOUN', 'old_class|NOUN', 'classic_joke|NOUN', 'suspect_class|NOUN', 'highschool_class|NOUN', 'music_theory_class|NOUN', 'classical_literature|NOUN', 'self-defense_class|NOUN', 'class_rings|NOUN', 'ship_classes|NOUN', '1st_class|NOUN', 'film_class|NOUN', 'classic_sign|NOUN', 'lower_class_families|NOUN', 'Economics_class|NOUN', 'derived_classes|NOUN', 'other_classrooms|NOUN', 'high_school_classes|NOUN', 'politics_class|NOUN', 'management_classes|NOUN', 'just_one_class|NOUN', 'underclassmen|NOUN', 'class_schedule|NOUN', 'classic_ones|NOUN', 'third_subclass|NOUN', 'new_subclasses|NOUN', 'first_class|NOUN', 'classy_reddit|PRODUCT', 'bard_class|NOUN', 'classe|NOUN', 'class_divisions|NOUN', 'OP_class|NOUN', 'class_action_lawsuits|NOUN', 'classic_pack|NOUN', 'only_1_class|NOUN', 'noble_class|NOUN', 'class_time|NOUN', 'work/class|NOUN', 'pottery_class|NOUN', 'declassification|NOUN', 'large_middle_class|NOUN', 'class-action_suit|NOUN', 'class-action_lawsuit|NOUN', 'upper_class_men|NOUN', 'friends/classmates|NOUN', 'ESL_class|NOUN', 'class_notes|NOUN', 'high_school_math_class|NOUN', 'Lit_class|NOUN', 'upper_middle_class_neighborhood|NOUN', 'solid_class|NOUN', 'classic_content|NOUN', 'classicshell|NOUN', 'Monk_class|NOUN', 'classical_way|NOUN', 'spin_classes|NOUN', 'x_class|NOUN', 'very_first_class|NOUN', 'other_classes|NOUN', 'own_class|NOUN', 'only_2_classes|NOUN', 'whole_new_class|NOUN', 'subclassing|VERB', 'journalism_class|NOUN', 'computer_science_classes|NOUN', 'class_division|NOUN', 'correct_class|NOUN', 'political_science_class|NOUN', 'first_class_citizen|NOUN', 'respective_classes|NOUN', 'First_class|NOUN', 'CS_classes|NOUN', 'History_class|NOUN', 'pure_DPS_class|NOUN', 'rising_middle_class|NOUN', 'equivalence_classes|NOUN', 'classic_mistake|NOUN', 'worldclass|NOUN', 'class_averages|NOUN', 'warrior_classes|NOUN', 'art_classes|NOUN', 'C++_class|NOUN', 'timeless_classics|NOUN', 'class_character|NOUN', 'fifth_grade_class|NOUN', 'classic_rock|NOUN', 'class_type|NOUN', 'exotic_class_items|NOUN', 'classic_Halo|NOUN', 'classic_line|NOUN', 'Hunter_class|NOUN', 'world_class_keeper|NOUN', 'elective_class|NOUN', 'social_class|NOUN', 'reclassifying|VERB', 'reclassed|VERB', 'class_action_suit|NOUN', 'gun_class|NOUN', 'upper_class_women|NOUN', 'middle_classes|NOUN', 'class_balance|NOUN', 'classic_comedy|NOUN', 'classic_episode|NOUN', 'upper_middle-class|NOUN', 'most_OP_class|NOUN', 'calc_class|NOUN', '7th_grade_class|NOUN', 'reclass|VERB', 'class_quest|NOUN', 'real_classic|NOUN', 'gun_safety_class|NOUN', 'easier_classes|NOUN', 'high_school_biology_class|NOUN', 'ed_class|NOUN', 'world_history_class|NOUN', 'classic_controllers|NOUN', 'class_A_misdemeanor|NOUN', 'reclassing|NOUN', 'type_classes|NOUN', 'exercise_classes|NOUN', 'classical_antiquity|NOUN', 'class_oppression|NOUN', 'rogue_class|NOUN', '4th_grade_class|NOUN', 'middle-class_income|NOUN', 'class_missions|NOUN', 'am_classes|NOUN', 'classic_game|NOUN', 'absolute_classics|NOUN', 'middle_school_class|NOUN', 'GED_classes|NOUN', 'most_fun_classes|NOUN', 'engineering_class|NOUN', 'lab_classes|NOUN', 'last_math_class|NOUN', 'fellow_classmate|NOUN', 'classic_rock_songs|NOUN', 'typeclasses|NOUN', 'base_class|NOUN', 'right_classes|NOUN', 'big_classes|NOUN', 'studies_classes|NOUN', 'classic_horror|NOUN', 'summoner_class|NOUN', 'infantry_classes|NOUN', 'logic_classes|NOUN', 'many_other_classes|NOUN', 'classified_data|NOUN', 'derived_class|NOUN', 'world_class_player|NOUN', 'class_interests|NOUN', 'the_end_of_the_class|DATE', 'classic_RPGs|NOUN', 'first-class|NOUN', 'timeless_classic|NOUN', 'technical_classes|NOUN', 'classiness|NOUN', 'Geography_class|NOUN', 'protected_class_status|NOUN', 'classical_period|NOUN', '8th_grade_science_class|NOUN', 'high_school_art_class|NOUN', 'just_classes|NOUN', 'class_days|NOUN', 'available_classes|NOUN', 'class_changes|NOUN', 'regular_classes|NOUN', 'college_level_classes|NOUN', 'History_classes|NOUN', 'original_classes|NOUN', 'PE_class|NOUN', 'classifieds|NOUN', 'OS_class|NOUN', 'WR_class|NOUN', 'pick_class|NOUN', 'CC_classes|NOUN', 'religious_class|NOUN', 'D-class|NOUN', 'real_classics|NOUN', 'class_mod|NOUN', 'science_class|NOUN', 'actual_class|NOUN', 'classroom_time|NOUN', 'class_action_suits|NOUN', 'training_classes|NOUN', 'class_file|NOUN', 'classic_controller_pro|NOUN', 'class_items|NOUN', 'stateless,_classless,_moneyless_society|NOUN', 'world_class_goalkeeper|NOUN', 'swim_class|NOUN', 'easiest_classes|NOUN', 'more_middle_class|NOUN', 'wealthy_class|NOUN', 'unclassy|ADJ', 'econ_class|NOUN', 'literature_class|NOUN', 'engineer_class|NOUN', 'anonymous_classes|NOUN', 'welding_class|NOUN', 'favourite_classes|NOUN', 'second_class_citizens|NOUN', 'animation_class|NOUN', 'slave_class|NOUN', 'classic_signs|NOUN', 'real_classes|NOUN', 'upper_classmen|NOUN', 'evening_classes|NOUN', 'class_setup|NOUN', 'middle-class_families|NOUN', 'lower_and_middle_class|NOUN', 'individual_classes|NOUN', 'bjj_class|NOUN', 'absolute_class|NOUN', 'Middle_class|NOUN', 'class_types|NOUN', 'first_class_cricket|NOUN', 'Subclasses|NOUN', 'summer_class|NOUN', 'even_middle_class|NOUN', 'middle-class|ADJ', 'other_2_classes|NOUN', 'classified_section|NOUN', 'PS2_classics|NOUN', 'health_classes|NOUN', 'classmates|NOUN', 'middle_class_area|NOUN', 'classic_beauty|NOUN', 'Art_class|NOUN', 'online_classes|NOUN', 'classic_formula|NOUN', 'crafting_classes|NOUN', 'graphic_design_class|NOUN', 'additional_classes|NOUN', 'minute_classes|NOUN', 'unclassy|NOUN', 'psychology_class|NOUN', 'classy_woman|NOUN', 'weakest_classes|NOUN', 'introductory_class|NOUN', 'middle_class_backgrounds|NOUN', 'working-class_people|NOUN', 'classic_rock_station|NOUN', 'classicism|NOUN', 'caster_classes|NOUN', 'broad_class|NOUN', 'classical_logic|NOUN', 'government_class|NOUN', 'favored_class_bonus|NOUN', 'truly_world_class|NOUN', 'MSF_class|NOUN', 'middle_class_kid|NOUN', 'biology_classes|NOUN', 'class_project|NOUN', 'classe|X', 'own_classroom|NOUN', 'French_class|NOUN', 'classic_space|NOUN', 'fucking_class|NOUN', 'multi-classing|NOUN', 'classic_question|NOUN', 'linear_algebra_class|NOUN', 'spinning_class|NOUN', 'classtime|NOUN', 'normal_classes|NOUN', 'AI_class|NOUN', 'HS_class|NOUN', 'class_act|NOUN', 'algorithms_class|NOUN', 'classic_symptoms|NOUN', 'class_change|NOUN', 'classy_fans|NOUN', 'class_C|NOUN', 'Psychology_class|NOUN', 'middle_class_white_guy|NOUN', 'chem_classes|NOUN', 'classic_blunders|NOUN', 'foreign_language_class|NOUN', 'defensive_driving_class|NOUN', 'class_quests|NOUN', 'true_classics|NOUN', 'additional_class|NOUN', 'classic_skin|NOUN', 'classic_set|NOUN', 'classic_song|NOUN', 'class_struggle|NOUN', 'first_class_shipping|NOUN', 'classic_combo|NOUN', 'undergraduate_class|NOUN', 'draft_class|NOUN', 'lower_weight_class|NOUN', 'class_status|NOUN', 'prep_class|NOUN', 'multiclassing|VERB', 'US_History_class|NOUN', 'wrong_class|NOUN', 'classifieds_section|NOUN', 'class_cause|NOUN', 'class_consciousness|NOUN', 'warrior_class|NOUN', 'cross-class_abilities|NOUN', 'classic_collection|NOUN', 'character_class|NOUN', 'class_antagonisms|NOUN', 'generic_class|NOUN', 'other_weapon_classes|NOUN', 'class_picture|NOUN', '/r/photoclass2015|PUNCT', 'CPR_classes|NOUN', 'concealed_carry_class|NOUN', 'outclass|NOUN', 'classic_modes|NOUN', 'classical_liberals|NOUN', 'male_classmates|NOUN', 'faction_class_item|NOUN', 'class_privilege|NOUN', 'class_participation|NOUN', 'class_atm|NOUN', 'legal_classification|NOUN', 'regular_classroom|NOUN', 'higher_classes|NOUN', 'average_middle_class|NOUN', 'many_classics|NOUN', 'fellow_classmates|NOUN', 'trial_class|NOUN', 'Sociology_class|NOUN', 'media_class|NOUN', 'American_classic|NOUN', 'Weight_classes|NOUN', \"next_year's_class|NOUN\", 'open_class|NOUN', 'classes/jobs|NOUN', 'class_hierarchy|NOUN', 'prestige_class|NOUN', 'few_classes|NOUN', 'Most_classes|NOUN', 'classic_model|NOUN', 'Health_class|NOUN', 'classical_Chinese|NORP', 'electronics_class|NOUN', 'American_history_class|NOUN', 'classical_guitar|NOUN', 'worst_class|NOUN', 'main_class|NOUN', 'remedial_classes|NOUN', 'classic_cocktails|NOUN', 'smaller_class|NOUN', 'high_school_history_classes|NOUN', 'class_distinction|NOUN', 'entire_kindergarten_class|NOUN', 'classy_person|NOUN', 'classic_answer|NOUN', 'base_classes|NOUN', 'studies_class|NOUN', 'bourgeois_class|NOUN', 'long_class|NOUN', 'hybrid_classes|NOUN', 'similar_class|NOUN', 'Different_classes|NOUN', 'class_mobility|NOUN', 'whole_classes|NOUN', 'classic_looks|NOUN', 'classy_man|NOUN', 'finance_class|NOUN', 'classical_era|NOUN', 'class_A|NOUN', 'classy|VERB', 'only_4_classes|NOUN', 'classic_tracks|NOUN', 'professional_class|NOUN', 'rich_class|NOUN', 'birthing_classes|NOUN', 'classic_feel|NOUN', 'class_clown|NOUN', 'maths_class|NOUN', 'evening_class|NOUN', 'classifiers|NOUN', 'outclass|VERB', 'neoclassical_economics|NOUN', 'chosen_class|NOUN', 'anthropology_class|NOUN', 'spanish_class|NOUN', 'American_History_class|NOUN', '&lt;class|NOUN', 'Declassified_School_Survival_Guide|ORG', 'awesome_class|NOUN', 'middle_class_areas|NOUN', 'class_B|NOUN', 'great_class|NOUN', 'white_working_class|NOUN', 'heavy_class|NOUN', 'physics_class|NOUN', 'third_grade_class|NOUN', 'M_class|NOUN', 'class_analysis|NOUN', 'almost_all_classes|NOUN', 'Extensive|ADJ', 'sports_class|NOUN', 'PE_classes|NOUN', 'lower_class_citizens|NOUN', 'amazing_class|NOUN', 'same_class|NOUN', 'priestly_class|NOUN', 'classic_example|NOUN', 'classic_games|NOUN', 'data_structures_class|NOUN', 'primary_class|NOUN', 'general_classes|NOUN', 'debate_class|NOUN', 'other_healing_classes|NOUN', 'classic_look|NOUN', 'working_class|NOUN', 'just_a_classic_case|NOUN', 'classic_shell|NOUN', 'super_class|NOUN', 'secondary_classes|NOUN', 'easy_classes|NOUN', 'classic_novel|NOUN', 'classifier|NOUN', 'community_college_class|NOUN', 'obedience_classes|NOUN', 'American_middle_class|NOUN', 'Chem_class|NOUN', 'many_different_classes|NOUN', 'crossfit_class|NOUN', 'assault_class|NOUN', 'least_played_class|NOUN', 'rich_and_middle_class|NOUN', 'public_speaking_class|NOUN', 'humanities_classes|NOUN', 'more_advanced_classes|NOUN', 'as_many_classes|NOUN', 'incoming_class|NOUN', 'psych_classes|NOUN', 'classic_definition|NOUN', 'upperclassmen|NOUN', 'upper_middle_class_family|NOUN', 'distinct_classes|NOUN', 'boring_class|NOUN', 'too_many_classes|NOUN', 'class_options|NOUN', 'other_class_cards|NOUN', 'standard_class|NOUN', 'most_important_class|NOUN', 'bible_class|NOUN', 'adult_classes|NOUN', 'HA_class|NOUN', 'healing_classes|NOUN', 'lower-middle_class|NOUN', 'great_classes|NOUN', '^class|NOUN', 'weakest_class|NOUN', 'Multiclassing|VERB', 'shrinking_middle_class|NOUN', 'economy_class|NOUN', 'grad_school_classes|NOUN', 'smaller_class_sizes|NOUN', 'classical_musician|NOUN', 'puppy_class|NOUN', 'classical_elements|NOUN', 'finance_classes|NOUN', 'working_class_person|NOUN', 'Zumba_classes|NOUN', 'recruiting_class|NOUN', 'most_difficult_class|NOUN', 'different_weight_classes|NOUN', 'BJJ_class|NOUN', 'classical_scholars|NOUN', 'Classes](/r/swtor/wiki/returning_player#wiki_classes|NOUN', 'classically|ADV', 'classic_pieces|NOUN', 'accounting_class|NOUN', 'middle_class|NOUN', 'upper_middle_class_white_people|NOUN', 'classic_episodes|NOUN', 'more_classes|NOUN', 'world_class_defender|NOUN', 'class_lectures|NOUN', 'safety_class|NOUN', 'classic_idea|NOUN', 'gathering_class|NOUN', 'white_middle_class_male|NOUN', 'classic_Doctor|NOUN', 'Only_class|NOUN', 'class_armor|NOUN', 'classroom_environment|NOUN', 'classical_theist|NOUN', 'good_class|NOUN', 'first_few_classes|NOUN', 'gen_ed_classes|NOUN', 'class_size|NOUN', 'speech_classes|NOUN', 'advanced_classes|NOUN', 'business_law_class|NOUN', 'class_systems|NOUN', 'entering_class|NOUN', 'working_class_family|NOUN', 'Honors_classes|NOUN', 'French_classes|NOUN', 'assassination_classroom|NOUN', 'engineering_classes|NOUN', 'pet_class|NOUN', 'such_classes|NOUN', 'web_design_class|NOUN', 'socioeconomic_classes|NOUN', 'first_grade_class|NOUN', 'sociology_class|NOUN', 'low_class_people|NOUN', 'declassifying|VERB', 'middle_class_white_kids|NOUN', 'gathering_classes|NOUN', 'small_classes|NOUN', 'second-class_citizen|NOUN', 'fucking_classic|NOUN', 'graduate_class|NOUN', 'class_name|NOUN', 'biology_class|NOUN', 'classic_lifts|NOUN', 'class_members|NOUN', 'class_attendance|NOUN', 'existing_classes|NOUN', 'old_classes|NOUN', 'speech_class|NOUN', 'short_class|NOUN', 'middle_class_parents|NOUN', 'kindergarten_class|NOUN', 'Yoga_class|NOUN', 'next_classes|NOUN', 'entire_class|NOUN', 'classical_stuff|NOUN', 'class_D|NOUN', 'Declassified|NOUN', 'online_class|NOUN', 'other_class|NOUN', 'simple_class|NOUN', 'Warrior_class|NOUN', 'Working_class_people|NOUN', 'specialized_classes|NOUN', 'world_class_winger|NOUN', 'extra_classes|NOUN', 'world-class_team|NOUN', 'classic_anime|NOUN', 'math_classes|NOUN', 'oppressor_class|NOUN', 'class_structures|NOUN', 'classica|NOUN', 'classing|VERB', 'high_school_class|NOUN', 'optional_class|NOUN', 'http://www.d20pfsrd.com/classes/core|X', 'class_rep|NOUN', 'character_classes|NOUN', 'entire_classroom|NOUN', 'swimming_class|NOUN', 'IB_classes|NOUN', 'very_fun_class|NOUN', 'higher_weight_class|NOUN', 'research_class|NOUN', 'boring_classes|NOUN', 'minute_class|NOUN', 'Econ_class|NOUN', 'class_player|NOUN', 'statistics_classes|NOUN', 'own_classes|NOUN', 'classic_vibe|NOUN', 'graduating_class|NOUN', 'bullshit_class|NOUN', 'class_discussions|NOUN', 'class_hours|NOUN', 'class_B_misdemeanor|NOUN', 'mage_class|NOUN', 'classic_work|NOUN', 'melee_class|NOUN', 'based_classes|NOUN', 'sex_ed_class|NOUN', 'lab_class|NOUN', 'alt_class|NOUN', 'so_much_class|NOUN', 'classroom_doors|NOUN', 'classical_physics|NOUN', 'middle_class_life|NOUN', 'graduate_classes|NOUN', 'Protected_classes|NOUN', 'major_class|NOUN', 'stats_class|NOUN', 'middle_class_wages|NOUN', 'classy_thing|NOUN', 'Best_class|NOUN', 'world_class_CB|NOUN', 'second_class_status|NOUN', 'upper_class_family|NOUN', 'healthy_middle_class|NOUN', 'price_class|NOUN', 'class_issue|NOUN', 'classic_map|NOUN', 'declassified_documents|NOUN', 'chem_class|NOUN', 'class_presentation|NOUN', 'classicist|NOUN', 'fav_class|NOUN', 'class_card|NOUN', 'outclasses|NOUN', 'user_class|NOUN', 'formal_class|NOUN', 'inner_class|NOUN', 'classies|NOUN', 'priest_class|NOUN', 'meditation_class|NOUN', 'classic_psychedelics|NOUN', 'high_school_science_class|NOUN', 'regular_class|NOUN', 'fixed_classes|NOUN', 'defense_classes|NOUN', 'easy_class|NOUN', 'middle_class_family|NOUN', 'time_class|NOUN', 'painting_classes|NOUN', 'healer_class|NOUN', 'classic_thing|NOUN', 'underclass|NOUN', 'reclassifies|NOUN', 'Chinese_class|NOUN', 'small_class_size|NOUN', 'declassified|VERB', 'class_role|NOUN', 'dancing_classes|NOUN', 'class_collaboration|NOUN', 'agility_classes|NOUN', 'classical|ADJ', 'only_one_class|NOUN', 'class_mate|NOUN', 'higher_level_class|NOUN', 'shit_class|NOUN', 'martial_class|NOUN', 'introductory_classes|NOUN', 'early_classes|NOUN', 'classic_jersey|NOUN', 'classico|NOUN', 'classy|NOUN', 'class-action|NOUN', 'sex_ed_classes|NOUN', 'worst_classes|NOUN', 'public_speaking_classes|NOUN', 'programming_classes|NOUN', 'english_classes|NOUN', 'Psych_class|NOUN', 'class_rules|NOUN', 'proper_classes|NOUN', 'classic_tactic|NOUN', 'physical_classes|NOUN', 'next_class|NOUN', 'class_mechanic|NOUN', 'class_choice|NOUN', 'class_descriptions|NOUN', 'other_classmates|NOUN', 'poetry_class|NOUN', 'classical_singing|NOUN', 'class_projects|NOUN', 'college_classes|NOUN', 'fighter_class|NOUN', 'history_class|NOUN', 'special_classes|NOUN', 'aerobics_class|NOUN', 'middle-class_people|NOUN', 'gymnastics_class|NOUN', 'many_classes|NOUN', 'master_class|NOUN', 'law_school_class|NOUN', 'S-class|NOUN', 'formal_classes|NOUN', 'most_other_classes|NOUN', 'political_classes|NOUN', 'driving_class|NOUN', '2nd_grade_class|NOUN', 'world_class_level|NOUN', 'healing_class|NOUN', 'classic_moment|NOUN', 'class-|NOUN', 'classic_matches|NOUN', 'archer_class|NOUN', 'class_haha|NOUN', 'classy_guy|NOUN', 'combat_class|NOUN', 'unique_classes|NOUN', 'mage_classes|NOUN', 'physics_classes|NOUN', 'subclasses|VERB', 'Shaman_class|NOUN', 'meditation_classes|NOUN', 'main_classes|NOUN', 'full_class|NOUN', 'senior_class|NOUN', 'birth_class|NOUN', 'kindergarten_classroom|NOUN', 'guitar_class|NOUN', 'classic_playlist|NOUN', 'weight_class|NOUN', 'classify|VERB', 'most_boring_class|NOUN', 'middle_class_workers|NOUN', 'upper_class|NOUN', 'class-medicine-germans-unhappy-with-alternative-swine-flu-vaccine-for-politicians-a-656028.html|NOUN', '____class|NOUN', 'middle_and_upper_classes|NOUN', 'lower/middle_class|NOUN', 'more_classes|ADJ', 'Math_class|NOUN', 'genetics_class|NOUN', 'classic_video_games|NOUN', 'couple_classes|NOUN', 'classic_fit|NOUN', 'more_class|NOUN', 'Mage_class|NOUN', 'karate_classes|NOUN', 'class_relations|NOUN', 'misclassification|NOUN', 'med_classes|NOUN', 'class_challenge|NOUN', 'world_class_athlete|NOUN', 'group_fitness_classes|NOUN', 'World_class|NOUN', 'philosophy_class|NOUN', 'ASL_classes|NOUN', 'same_classroom|NOUN', 'sub-classes|NOUN', 'special_ed_class|NOUN', 'grad_classes|NOUN', 'upperclass|NOUN', 'class_aircraft_carrier|NOUN', 'enough_class|NOUN', 'first_class_citizens|NOUN', 'larger_class|NOUN', 'terrible_class|NOUN', 'class_distinctions|NOUN', 'completely_different_classes|NOUN', 'middle-class_person|NOUN', 'sewing_classes|NOUN', 'classical_pieces|NOUN', 'classroom_teacher|NOUN', 'classical_training|NOUN', 'only_3_classes|NOUN', 'school_class|NOUN', 'weightlifting_class|NOUN', 'social_classes|NOUN', 'classic_story|NOUN', 'classic_jerseys|NOUN', 'weaker_classes|NOUN', 'reclassing|VERB', 'martial_arts_classes|NOUN', 'music_class|NOUN', 'reading_class|NOUN', 'classic_form|NOUN', 'custom_class|NOUN', 'subclass|NOUN', 'smaller_classes|NOUN', 'ruling_class|NOUN', 'bullshit_classes|NOUN', 'Other_classes|NOUN', 'fun_class|NOUN', 'undergrad_classes|NOUN', 'education_class|NOUN', 'classic_music|NOUN', 'growing_middle_class|NOUN', 'magic_class|NOUN', 'dance_classes|NOUN', 'class_everyday|NOUN', 'classic_characters|NOUN', 'class_story|NOUN', 'large_class|NOUN', 'class/job|NOUN', 'class_diversity|NOUN', 'whole_class|NOUN', 'pretty_much_every_class|NOUN', 'puppy_classes|NOUN', 'upper_class_people|NOUN', 'English_classes|NOUN', 'fitness_classes|NOUN', 'language_class|NOUN', 'GE_classes|NOUN', 'new_ruling_class|NOUN', 'battle_classes|NOUN', 'classical_composers|NOUN', 'class_balancing|NOUN', 'classroom_use|NOUN', 'coding_classes|NOUN', 'casting_class|NOUN', 'socioeconomic_class|NOUN', 'adult_class|NOUN', 'classic_skins|NOUN', 'working_class_people|NOUN', 'most_classrooms|NOUN', 'class_assignment|NOUN', 'class_war|NOUN', 'at_least_one_class|NOUN', 'class_material|NOUN', 'based_class|NOUN', 'credit_class|NOUN', 'theatre_class|NOUN', 'middle_class_families|NOUN', 'true_class|NOUN', 'few_classics|NOUN', 'Whole_class|NOUN', 'Almost_every_class|NOUN', 'design_class|NOUN', 'solidly_middle_class|NOUN', 'ES6_classes|NOUN', 'more_difficult_classes|NOUN', 'classified|ADJ', 'link_flair_class|NOUN', 'class_contracts|NOUN', 'Iowa_class|NOUN', 'management_class|NOUN', 'basic_classes|NOUN', 'Japanese_class|NOUN', 'only_classes|NOUN', 'consumer_class|NOUN', 'classy_people|NOUN', 'FA_class|NOUN', 'prerequisite_classes|NOUN', 'swimming_classes|NOUN', 'class_people|NOUN', 'cross_class_skills|NOUN', 'DPS_classes|NOUN', 'cross_class_abilities|NOUN', 'same_weight_class|NOUN', 'science_classrooms|NOUN', 'Biology_class|NOUN', 'average_class_size|NOUN', 'weekly_classes|NOUN', 'studio_classes|NOUN', 'child_class|NOUN', 'modern_classics|NOUN', 'class_rooms|NOUN', 'class_submarine|NOUN', 'birthing_class|NOUN', 'exercise_class|NOUN', 'dual_class|NOUN', 'word_class|NOUN', 'classing|NOUN', 'lighter_weight_classes|NOUN', 'classic_tale|NOUN', 'classic_problem|NOUN', 'photography_classes|NOUN', 'dancing_class|NOUN', 'first_aid_class|NOUN', 'class_mods|NOUN', 'classic_sense|NOUN', 'safety_classes|NOUN', 'multiclass|VERB', 'classy|ADJ', 'classified_ad|NOUN', 'religion_classes|NOUN', 'classical_guitars|NOUN', 'healer_classes|NOUN', 'liberal_arts_classes|NOUN', 'CSS_class|NOUN', 'class_times|NOUN', 'dominant_class|NOUN', 'class/work|NOUN', 'missing_classes|NOUN', 'kids_classes|NOUN', 'old_classmate|NOUN', 'classical_example|NOUN', 'marketing_class|NOUN', 'class_ability|NOUN', 'certain_class|NOUN', 'defender_class|NOUN', 'person_class|NOUN', 'Outclassed|VERB', 'classement|NOUN', 'E-class|NOUN', 'paper_classes|NOUN', 'upper_class_families|NOUN', 'welding_classes|NOUN', 'class_period|NOUN', 'easier_class|NOUN', 'classical_works|NOUN', 'classroom_learning|NOUN', 'lower_class|NOUN', 'marketing_classes|NOUN', 'classified_info|NOUN', 'CS_class|NOUN', 'gym_class|NOUN', 'former_classmates|NOUN', 'first_classes|NOUN', 'discrete_math_class|NOUN', 'first_class_tickets|NOUN', 'class_identity|NOUN', 'classic_metal|NOUN', 'middle_class_America|GPE', 'classical_style|NOUN', 'offclass|NOUN', 'Summer_classes|NOUN', 'OP_classes|NOUN', 'Title_II_reclassification|NOUN', 'iPod_classic|NOUN', 'classic_movies|NOUN', 'AP_class|NOUN', 'education_classes|NOUN', 'second_class_citizen|NOUN', 'weapon_class|NOUN', 'world-class_player|NOUN', 'hardest_classes|NOUN', 'maths_classes|NOUN', 'class/race|NOUN', 'class_load|NOUN', 'Engineer_class|NOUN', 'classroom_teachers|NOUN', 'playable_class|NOUN', 'new_classic|NOUN', 'classic_match|NOUN', 'middle_class_job|NOUN', 'class_players|NOUN', 'middle_and_lower_class|NOUN', 'unclassified|ADJ', 'hybrid_class|NOUN', 'stock_class|NOUN', 'class_stacking|NOUN', 'classic_case|NOUN', 'class|VERB', 'old_classics|NOUN', 'stateless,_classless_society|NOUN', 'Spanish_classes|NOUN', 'class_action|NOUN', 'hardest_class|NOUN', 'classic_versions|NOUN', 'old_classmates|NOUN', 'cool_class|NOUN', 'several_classmates|NOUN', 'special_ed_classes|NOUN', 'new_class|NOUN', 'lowest_class|NOUN', 'hard_classes|NOUN', 'classics|NOUN', 'second_class_citizenship|NOUN', 'billionaire_class|NOUN', 'classless|NOUN', 'whole_classroom|NOUN', 'really_good_class|NOUN', 'least_favorite_class|NOUN', 'worker_class|NOUN', 'current_class|NOUN', 'size_class|NOUN', 'Rogue_class|NOUN', 'honors_class|NOUN', 'classic_maps|NOUN', 'second-class_citizens|NOUN', 'classical_studies|NOUN', 'lower_middle_class|NOUN', 'E_class|NOUN', 'strong_class|NOUN', 'classified_stuff|NOUN', 'federally_protected_classes|NOUN', 'unlimited_classes|NOUN', 'classifiable|ADJ', 'social_studies_class|NOUN', 'parenting_classes|NOUN', 'DoH_classes|NOUN', 'class_divide|NOUN', 'samurai_class|NOUN', 'classic_novels|NOUN', 'better_classes|NOUN', 'small_classroom|NOUN', 'world_class_midfielder|NOUN', 'strong_middle_class|NOUN', 'classic_sci-fi|NOUN', 'class_feature|NOUN', 'different_social_classes|NOUN', 'racial_classification|NOUN', 'given_class|NOUN', 'upper_level_classes|NOUN', 'lower_classes|NOUN', 'high_school_English_class|NOUN', 'world_class_talent|NOUN', 'dps_classes|NOUN', 'foreign_language_classes|NOUN', 'high_school_physics_class|NOUN', 'class_skill|NOUN', 'shop_class|NOUN', 'gun_safety_classes|NOUN', 'classic_consoles|NOUN', 'private_classes|NOUN', 'free_online_classes|NOUN', 'other_weight_classes|NOUN', 'traditional_classes|NOUN', 'old_classic|NOUN', 'class_conflict|NOUN', 'empty_classrooms|NOUN', 'middle_class_whites|NOUN', 'such_class|NOUN', 'lower_weight_classes|NOUN', 'ESL_classes|NOUN', 'important_classes|NOUN', 'week_class|NOUN', 'pure_class|NOUN', 'obedience_class|NOUN', 'real_class_act|NOUN', 'second_class|NOUN', 'time_classics|NOUN', 'middle-class_family|NOUN', 'C_class|NOUN', 'standard_classes|NOUN', 'class_president|NOUN', 'group_class|NOUN', 'S_class|NOUN', 'Archer_class|NOUN', 'higher_social_class|NOUN', 'classic_text|NOUN', 'most_popular_class|NOUN', 'RB_class|NOUN', 'drug_class|NOUN', 'playable_classes|NOUN', '3rd_class|NOUN', 'investment_class|NOUN', 'instant_classic|NOUN', 'German_classes|NOUN', 'class_battleship|NOUN', 'class_trip|NOUN', 'anthropology_classes|NOUN', 'classic_controller|NOUN', 'class_challenges|NOUN', 'middle_class_white_people|NOUN', 'less_classes|NOUN', 'class_slots|NOUN', 'el_classico|NOUN', 'class_description|NOUN', 'big_class|NOUN', 'theology_class|NOUN', 'ranged_classes|NOUN', 'classroom_management|NOUN', 'type_class|NOUN', 'default_class|NOUN', 'classroom_instruction|NOUN', 'upper_middle_class_families|NOUN', 'similar_classes|NOUN', 'woodshop_class|NOUN', 'high_school_classroom|NOUN', 'classifications|NOUN', 'warlock_class|NOUN', 'classic_method|NOUN', 'huge_class|NOUN', 'classic_mode|NOUN', 'high_school_graduating_class|NOUN', 'P.E._class|NOUN', 'class_reunion|NOUN', 'Business_class|NOUN', 'class_clowns|NOUN', 'cooking_classes|NOUN', 'outclassed|ADJ', 'classic_one|NOUN', 'power_class|NOUN', 'english_class|NOUN', 'classic_trope|NOUN', 'B_class|NOUN', 'class_action_lawsuit|NOUN', 'classic_cinema|NOUN', 'masterclass|NOUN', 'mechanic_class|NOUN', 'assassin_class|NOUN', 'class*.|NOUN', 'class_lines|NOUN', 'Science_class|NOUN', 'druid_class|NOUN', 'years_class|NOUN', 'high_school_English_classes|NOUN', 'Extensively|ADV', 'favorite_class|NOUN', 'first_programming_class|NOUN', 'Upper_class|NOUN', 'class|NOUN', 'classroom_setting|NOUN', 'calculus_classes|NOUN', 'tax_class|NOUN', 'classic_video|NOUN', 'college_class|NOUN', 'film_classes|NOUN', 'sub_classes|NOUN', 'day_classes|NOUN', 'class_schedules|NOUN', 'public_class|NOUN', 'class_credit|NOUN', 'long_classes|NOUN', 'classic_shit|NOUN', 'class_requirements|NOUN', 'classic|ADJ', 'sewing_class|NOUN', 'Masterclass|NOUN', 'hour_classes|NOUN', 'working-class|NOUN', 'upper-middle_class_family|NOUN', 'middle_class_kids|NOUN', 'class=\"flair|NOUN', 'weightclasses|NOUN', 'level_classes|NOUN', 'prestige_classes|NOUN', 'ownership_class|NOUN', 'class_files|NOUN', 'ballet_classes|NOUN', 'exact_same_class|NOUN', 'great_recruiting_class|NOUN', 'first_period_class|NOUN', 'outclassing|VERB', 'first_class_seat|NOUN', 'CSS_classes|NOUN', 'classic_car|NOUN', 'higher_class|NOUN', 'multiclass|ADJ', 'tech_classes|NOUN', 'classic_symptom|NOUN', 'vehicle_class|NOUN', 'beginner_class|NOUN', 'extra_class|NOUN', 'geology_class|NOUN', 'Declassified|VERB', 'entire_classes|NOUN', 'class_grade|NOUN', 'logic_class|NOUN', 'middle_class_women|NOUN', 'classic_servers|NOUN', 'classier|ADV', 'classier|ADJ', 'local_classic_rock_station|NOUN', 'pretty_much_any_class|NOUN', 'cross-class|NOUN', 'tough_class|NOUN', 'ruling_classes|NOUN', 'master_classes|NOUN', 'pm_class|NOUN', 'classier|NOUN', 'classical_liberal|NOUN', 'semester_class|NOUN', 'other_two_classes|NOUN', 'last_class|NOUN', 'middle_class_person|NOUN', 'black_middle_class|NOUN', 'difficult_classes|NOUN', \"last_year's_class|NOUN\", 'classy_look|NOUN', 'beginners_classes|NOUN', 'classified|VERB', 'Chemistry_class|NOUN', 'world_class_striker|NOUN', 'Bard_class|NOUN', 'superclass|NOUN', 'classroom_door|NOUN', 'woodworking_class|NOUN', 'class_action_law_suit|NOUN', 'class_restriction|NOUN', 'underclasses|NOUN', 'College_classes|NOUN', 'weapon_classes|NOUN', 'strongest_class|NOUN', 'certain_classes|NOUN', 'improv_classes|NOUN', 'working_class_jobs|NOUN', 'English_class|NOUN', 'classic_lines|NOUN', 'improv_class|NOUN', 'grammar_class|NOUN', 'lit_class|NOUN', 'middle_class_neighborhood|NOUN', 'physical_class|NOUN', 'classical_psychedelics|NOUN', 'early_morning_classes|NOUN', 'Friday_classes|NOUN', 'computer_science_class|NOUN', 'band_class|NOUN', 'class_envy|NOUN', 'hunter_class|NOUN', 'middle-class_white_people|NOUN', 'screenwriting_class|NOUN', 'middle_class_income|NOUN', 'deep_class|NOUN', 'acting_class|NOUN', 'class_stratification|NOUN', 'class_tree|NOUN', 'className|NOUN', 'most_classes|NOUN', 'classical_theory|NOUN', 'different_classrooms|NOUN', 'wizard_class|NOUN', 'second-class|NOUN', 'caster_class|NOUN', 'existing_class|NOUN', 'US_history_class|NOUN', 'classic_way|NOUN', 'multiclassed|VERB', 'labor_class|NOUN', 'other_melee_classes|NOUN', 'french_class|NOUN', 'capitalist_class|NOUN', 'new_middle_class|NOUN', 'classique|NOUN', 'group_classes|NOUN', 'final_class|NOUN', 'Reclassifying|VERB', '/r/gamedevclassifieds|NOUN', 'class_set|NOUN', 'classical_computers|NOUN', 'coding_class|NOUN', 'classic_fantasy|NOUN', 'literary_classic|NOUN', 'beginners_class|NOUN', 'classic_movie|NOUN', 'classiest_thing|NOUN', 'tough_classes|NOUN', 'class_session|NOUN', 'class_rankings|NOUN', 'damage_class|NOUN', 'class_combination|NOUN', 'martial_arts_class|NOUN', 'classy_ladies|NOUN', 'other_classics|NOUN', 'melee_classes|NOUN', 'abstract_class|NOUN', 'modern_classic|NOUN', 'following_classes|NOUN', 'middle_class_jobs|NOUN', 'class_lol|NOUN', 'classless|ADJ', 'DPS_class|NOUN', 'boxing_class|NOUN', 'class_&amp|NOUN', 'classic_songs|NOUN', 'humanities_class|NOUN', 'middle/lower_class|NOUN', 'Disney_classics|NOUN', 'classy_way|NOUN', 'little_class|NOUN', 'other_DPS_classes|NOUN', 'classic_arcade_games|NOUN', 'calculus_class|NOUN', 'med_school_class|NOUN', 'support_classes|NOUN', 'few_classmates|NOUN', 'class_weapons|NOUN', 'TE_class|NOUN', 'Certain_classes|NOUN', 'Many_classes|NOUN', 'free_agent_class|NOUN', 'classic|VERB', 'classroom|NOUN', 'honors_classes|NOUN', 'working_class_background|NOUN', 'upper-middle_class|NOUN', '2nd_class_citizens|NOUN', 'c_class|NOUN', 'classic_designs|NOUN', 'upper-class|NOUN', 'middle_class_neighborhoods|NOUN', 'class_actions|NOUN', 'class_difference|NOUN', 'player_classes|NOUN', 'tank_class|NOUN', 'general_education_classes|NOUN', 'Farming](http://www.smitecentral.com/content/articles/page/professor-proxy/professor-proxy-beginner-class-farming)||NOUN', 'whole_different_class|NOUN', 'viable_class|NOUN', 'low-class|NOUN', 'dps_class|NOUN', 'civics_class|NOUN', 'shop_classes|NOUN', 'classic_piece|NOUN', 'home_ec_class|NOUN', 'afternoon_class|NOUN', 'educated_class|NOUN', 'offclass|VERB', 'classic_syrup|NOUN', 'class_warfare|NOUN', 'training_class|NOUN', 'class_teacher|NOUN', 'computer_class|NOUN', 'middle_class_white_kid|NOUN', 'Studies_class|NOUN', 'morning_classes|NOUN', '2nd_class_citizen|NOUN', 'first_class_mail|NOUN', 'language_classes|NOUN', 'MMA_classes|NOUN', 'class_structure|NOUN', 'classpath|NOUN', 'cleric_class|NOUN', 'monk_class|NOUN', 'just_class|NOUN', 'classical_theism|NOUN', 'cs_classes|NOUN', 'reclassification|NOUN', 'university_classes|NOUN', 'classy_organization|NOUN', 'random_class|NOUN', 'classical_architecture|NOUN', 'theater_class|NOUN', 'merchant_class|NOUN', 'gender_studies_classes|NOUN', 'classical_composer|NOUN', 'middle_and_lower_classes|NOUN', 'multi-class|NOUN', 'very_good_class|NOUN', 'bad_class|NOUN', 'owner_class|NOUN', 'Calculus_class|NOUN', 'classifying|VERB', 'earlier_classes|NOUN', 'other_asset_classes|NOUN', 'failing_classes|NOUN', 'harder_classes|NOUN', 'less_class|NOUN', 'pet_classes|NOUN', 'prep_classes|NOUN', 'german_class|NOUN', 'economic_class|NOUN', 'classic_stories|NOUN', 'fitness_class|NOUN', 'weightclass|NOUN', 'Sovereign_class|NOUN', 'middle_class_people|NOUN', 'class_cruiser|NOUN', 'full_classes|NOUN', 'zumba_class|NOUN', 'first_year_classes|NOUN', 'weight_lifting_class|NOUN', 'world_class_team|NOUN', 'almost_every_class|NOUN', 'photoclass.com/|NOUN', 'yoga_class|NOUN', 'class_features|NOUN', 'upper_classes|NOUN', 'java_class|NOUN', 'college_classmates|NOUN', 'starting_classes|NOUN', 'first_class_ticket|NOUN', 'classic_logo|NOUN', 'class_inequality|NOUN', 'ranged_class|NOUN', 'protected_class|NOUN', 'classical_history|NOUN', 'largest_class|NOUN', 'class_periods|NOUN', 'class_composition|NOUN', 'same_draft_class|NOUN', 'civics_classes|NOUN', 'class_work|NOUN', 'world_class_teams|NOUN', 'classic_packs|NOUN', 'poor/middle_class|NOUN', 'academic_classes|NOUN', 'important_class|NOUN', 'easiest_class|NOUN', 'New_classes|NOUN', 'middle_and_upper_class|NOUN', 'class_room|NOUN', 'mandatory_classes|NOUN', 'classic_stuff|NOUN', 'CPR_class|NOUN', 'How_many_classes|NOUN', 'math_class|NOUN', 'class/build|NOUN', 'Online_classes|NOUN', 'later_classes|NOUN', 'reading_comprehension_class|NOUN', 'best_classes|NOUN', 'class=\"col|NOUN', 'top_class_striker|NOUN', 'classical_pianist|NOUN', 'Galaxy-class|NOUN', 'nutrition_classes|NOUN', 'previous_class|NOUN', 'former_classmate|NOUN', 'law_classes|NOUN', 'preferred_class|NOUN', 'first_class_seats|NOUN', 'reclassifies|VERB', 'Zumba_class|NOUN', 'IT_classes|NOUN', 'most_played_class|NOUN', 'classpects|NOUN', 'actual_classes|NOUN', 'class_level|NOUN', 'day_class|NOUN', 'class(es|NOUN', 'socio-economic_class|NOUN', 'working_class_men|NOUN', 'third_class|NOUN', 'class_bonus|NOUN', 'classe|ADJ', 'remaining_classes|NOUN', 'upcoming_class|NOUN', 'QB_class|NOUN', 'senior_classes|NOUN', 'classical_philosophy|NOUN', 'classic_country|NOUN', '/r/classic4chan|PUNCT', 'Multiclass|NOUN', 'middle_class_Americans|NORP', 'undergrad_class|NOUN', 'upper_division_classes|NOUN', 'classic_reddit|PRODUCT', 'soldier_class|NOUN', 'classin|NOUN', 'Class](http://femradebates.com/#class|NOUN', 'other_subclass|NOUN', 'neoclassical|ADJ', 'general_ed_classes|NOUN', 'religious_classes|NOUN', 'college_classrooms|NOUN', 'classist|ADJ', 'federally_protected_class|NOUN', 'class_acts|NOUN', 'several_classes|NOUN', 'class_skills|NOUN', 'ap_classes|NOUN', 'political_class|NOUN', 'own_classification|NOUN', 'fourth_class|NOUN', 'sub_class|NOUN', 'class_frigate|NOUN', 'template&lt;class|NOUN', 'class_sets|NOUN', '4th_class|NOUN', 'classique|X', 'undergraduate_classes|NOUN', 'middle_class_white_women|NOUN', 'larger_classes|NOUN', 'proper_class|NOUN', 'world_class_defenders|NOUN', 'lower_class_family|NOUN', 'uni_classes|NOUN', 'intro_class|NOUN', 'C-class|NOUN', 'different_classes|NOUN', 'almost_any_class|NOUN', 'classical_world|NOUN', 'classic_works|NOUN', 'core_classes|NOUN', 'light_class|NOUN', 'required_class|NOUN', 'MMA_class|NOUN', '3rd_subclass|NOUN', 's_class|NOUN', 'classic_sound|NOUN', 'health_class|NOUN', 'declassified|ADJ', 'favorite_classes|NOUN', 'class_number|NOUN', 'world_class|NOUN', 'class_gear|NOUN', 'classical_art|NOUN', 'business_class_internet|NOUN', 'EE_classes|NOUN', 'classical_music|NOUN', 'typeclass|NOUN', 'algebra_class|NOUN', 'Java_classes|NOUN', 'different_class|NOUN', 'AP_classes|NOUN', 'gym_classes|NOUN', 'photo_class|NOUN', 'missing_class|NOUN', 'original_class|NOUN', 'weight_classes|NOUN', 'most_powerful_class|NOUN', 'large_classes|NOUN', 'first_year_class|NOUN', 'related_classes|NOUN', 'decent_class|NOUN', 'class_discussion|NOUN', 'middle_class_white_male|NOUN', 'bio_class|NOUN', 'working_class_neighborhood|NOUN', 'favored_class|NOUN', 'classwork|NOUN', 'classrooms|NOUN', 'protected_classes|NOUN', 'classic_rock_stations|NOUN', 'beginner_classes|NOUN', 'Titan_class|NOUN', 'nice_classy_woman|NOUN', 'mixed_classes|NOUN', 'rookie_class|NOUN', 'armor_class|NOUN', 'reclassified|VERB', 'ceramics_class|NOUN', 'higher_level_classes|NOUN', 'hour_class|NOUN', 'economic_classes|NOUN', 'french_classes|NOUN', 'economics_classes|NOUN', 'so_many_classics|NOUN', 'classic_version|NOUN', 'CAD_class|NOUN', 'class_assignments|NOUN', 'kickboxing_class|NOUN', 'classic_argument|NOUN', 'unique_class|NOUN', 'subclasses|NOUN', 'owning_class|NOUN', 'community_college_classes|NOUN', 'class_mechanics|NOUN', 'class_limits|NOUN', 'just_a_class|NOUN', 'outclasses|VERB', 'Chinese_classes|NOUN', 'classification_system|NOUN', 'spellcasting_class|NOUN', 'paladin_class|NOUN', 'drawing_class|NOUN', 'particular_classes|NOUN', 'graduating_classes|NOUN', 'tech_class|NOUN', 'difficult_class|NOUN', 'classed|VERB', 'classiest|NOUN', 'local_classifieds|NOUN', 'hard_class|NOUN', 'classical_education|NOUN', 'classification|NOUN', 'classic_moments|NOUN', 'classmate|NOUN', 'classical_piano|NOUN', 'nearly_every_class|NOUN', 'true_classic|NOUN', 'combat_classes|NOUN', 'Gym_class|NOUN', 'particular_class|NOUN', 'biological_classification|NOUN', 'world_class_university|NOUN', 'upperclassman|NOUN', 'asset_classes|NOUN', 'class_definition|NOUN', 'classes|VERB', 'lower_level_classes|NOUN', 'ship_class|NOUN', 'religion_class|NOUN', 'exact_class|NOUN', 'hero_class|NOUN', 'IT_class|NOUN', 'pledge_class|NOUN', 'class_roster|NOUN', 'high_school_health_class|NOUN']\n",
      "list of distractors : ['future classes', 'classical definition', 'top classes', 'missed classes', 'in-class']\n",
      "length of distractors 5\n",
      "type : <class 'list'>\n",
      "[DEBUG] Final distractors: ['Greek', '1821', 'Centres'] for question: 'What type of merchant class provided the material basis for the intellectual revival?'\n",
      "[DEBUG] Options: ['Greek', 'Extensive Merchant Class', 'Centres', '1821'] for question: 'What type of merchant class provided the material basis for the intellectual revival?'\n",
      "[DEBUG] Generated question: 'Greek success was also what by Greek domination of the Christian Orthodox church?' for keyword: 'favoured'\n"
     ]
    },
    {
     "name": "stderr",
     "output_type": "stream",
     "text": [
      "Both `max_new_tokens` (=200) and `max_length`(=512) seem to have been set. `max_new_tokens` will take precedence. Please refer to the documentation for more information. (https://huggingface.co/docs/transformers/main/en/main_classes/text_generation)\n"
     ]
    },
    {
     "name": "stdout",
     "output_type": "stream",
     "text": [
      "[DEBUG] Generated answer: 'Greek success' for question: 'Greek success was also what by Greek domination of the Christian Orthodox church?'\n",
      "'Greek_success|n' not found in the model. Exploring similar available keys...\n",
      "Available keys related to 'Greek success': ['Greek_texts|NOUN', 'Greek_girl|NOUN', 'successful_doctor|NOUN', 'past_successes|NOUN', 'Greek_guy|NOUN', '^^not_^^guarantee_^^a_^^successful_^^swap|NOUN', 'Greek_state|NOUN', 'successive_years|DATE', 'moderate_success|NOUN', 'massive_success|NOUN', 'too_much_success|NOUN', 'successful_author|NOUN', 'considerable_success|NOUN', 'success|NOUN', 'first_success|NOUN', 'Greektown|PERSON', 'Greek_myths|NOUN', 'successions|NOUN', 'very_successful_people|NOUN', 'successful_defenses|NOUN', 'successful_streamer|NOUN', 'Greek_gods|NOUN', 'Greek_voters|NOUN', 'successful_business_owners|NOUN', 'Greek_origin|NOUN', 'successful_hit|NOUN', 'unsuccessfully|ADV', 'successful_attempts|NOUN', 'business_success|NOUN', 'successful_franchise|NOUN', 'success|ADJ', 'Greek_system|NOUN', 'successful_product|NOUN', 'higher_success|NOUN', 'NFL_success|NOUN', 'success|VERB', 'success_kid_meme|NOUN', 'higher_success_rates|NOUN', 'low_success_rate|NOUN', 'successful_parry|NOUN', 'success_chance|NOUN', 'Greek_world|NOUN', 'Greeks|PERSON', 'Greek|ORG', 'commercial_success|NOUN', 'Greek_society|NOUN', 'dating_success|NOUN', 'evolutionary_success|NOUN', 'successful_relationships|NOUN', 'Greek_people|NOUN', 'Greek_goddess|NOUN', 'more_success|NOUN', 'short_term_success|NOUN', 'Greek_name|NOUN', 'way_more_success|NOUN', 'success_story|NOUN', 'successful_players|NOUN', 'greatest_successes|NOUN', 'successive_governments|NOUN', 'prolonged_success|NOUN', 'Greek_yogurt|NOUN', 'Greek_Freak|ORG', 'much_greater_success|NOUN', 'biggest_success|NOUN', 'Greek_Life|ORG', 'phenomenal_success|NOUN', 'successful_strategies|NOUN', 'successful_gank|NOUN', 'most_Greeks|NORP', 'rapid_succession|NOUN', 'pretty_high_success_rate|NOUN', 'Greek_banks|NOUN', 'Greek_parliament|NOUN', 'Greek_organization|NOUN', 'successful_applicants|NOUN', 'Greek_houses|NOUN', 'own_successful_business|NOUN', 'successful_project|NOUN', 'successfull|NOUN', 'spiritual_successors|NOUN', 'good_success|NOUN', 'possible_success|NOUN', 'domestic_success|NOUN', 'successful_small_business|NOUN', 'material_success|NOUN', 'successful_event|NOUN', 'most_successful_franchise|NOUN', 'very_quick_succession|NOUN', 'Greek_bailout|NOUN', 'success_stories|NOUN', 'ancient_Greeks|NORP', 'few_success_stories|NOUN', 'highly_successful_people|NOUN', 'successful_guys|NOUN', 'ancient_Greek|NORP', 'few_successes|NOUN', 'successful_woman|NOUN', 'lower_success_rate|NOUN', 'Greek_citizens|NOUN', 'romantic_success|NOUN', 'Greek_Yogurt|ORG', 'Greektown|NOUN', 'successful_lives|NOUN', 'successful_movies|NOUN', 'very_high_success_rate|NOUN', 'Greek_alphabet|NOUN', 'Greek_names|NOUN', 'major_successes|NOUN', 'Ancient_Greek|ORG', 'successful_societies|NOUN', 'successful_games|NOUN', 'Greek_philosophy|NOUN', 'Greek_Mythology|NOUN', 'successful_application|NOUN', 'successful_businessman|NOUN', '^^successful_^^swap|NOUN', 'successful_adults|NOUN', 'minimal_success|NOUN', 'lazy_Greeks|NORP', 'succession|NOUN', 'wild_success|NOUN', 'many_successful_people|NOUN', 'modern_Greek|NORP', 'marginal_success|NOUN', 'financial_success|NOUN', 'successful_life|NOUN', 'successo|VERB', 'biggest_successes|NOUN', 'games_success|NOUN', 'most_successful_period|NOUN', 'successful_business_owner|NOUN', 'runaway_success|NOUN', 'successful_organization|NOUN', 'Greek_Mythology|ORG', 'successive_waves|NOUN', 'modest_success|NOUN', 'successful_actor|NOUN', 'early_successes|NOUN', 'amazing_success|NOUN', 'succession_crisis|NOUN', 'succession_law|NOUN', 'successful_startups|NOUN', 'student_success|NOUN', 'successful_way|NOUN', 'most_successful_games|NOUN', 'even_more_success|NOUN', 'college_success|NOUN', 'most_successful_team|NOUN', 'much_better_success|NOUN', 'successo|ADJ', 'huge_commercial_success|NOUN', 'Greek_cities|NOUN', 'unexpected_success|NOUN', 'successful|ADJ', 'Greek_organizations|NOUN', 'Greek_translation|NOUN', 'successful_suicides|NOUN', 'higher_success_rate|NOUN', 'successful_defense|NOUN', 'postseason_success|NOUN', 'Greek_restaurant|NOUN', 'equal_success|NOUN', 'successful_candidate|NOUN', 'most_successful_clubs|NOUN', 'successful_kickstarter|NOUN', 'Greek_politicians|NOUN', 'Greek_history|NOUN', 'Greek_elections|NOUN', 'critical_and_commercial_success|NOUN', 'successful_revolution|NOUN', 'mixed_success|NOUN', 'successively|ADV', 'successful_careers|NOUN', 'Greek_Yogurt|PERSON', 'quick_succession|NOUN', 'successor|NOUN', 'Greek_culture|NOUN', 'economic_success|NOUN', 'critical_success|NOUN', 'single_success|NOUN', 'succession_wars|NOUN', 'very_successful_RCS_war_clan|NOUN', 'decent_success_rate|NOUN', 'successful_outcome|NOUN', 'huge_success|NOUN', 'bigger_success|NOUN', 'successful_run|NOUN', 'less_success|NOUN', 'success_message|NOUN', 'eventual_success|NOUN', 'roaring_success|NOUN', 'successful_transactions|NOUN', 'much_more_success|NOUN', 'reproductive_success|NOUN', 'successful_invasion|NOUN', 'Modern_Greek|NOUN', 'successful_player|NOUN', 'Greek_version|NOUN', 'greater_success|NOUN', 'only_success|NOUN', 'Greek_Pantheon|NOUN', 'Greek|WORK_OF_ART', 'succession_plan|NOUN', 'successful_people|NOUN', 'resounding_success|NOUN', 'competitive_success|NOUN', 'Greek|ADJ', 'successful_save|NOUN', 'most_successful_teams|NOUN', 'Greek_debt_crisis|NOUN', 'playoff_success|NOUN', 'professional_success|NOUN', 'regular_season_success|NOUN', 'smashing_success|NOUN', 'Greek_god|NOUN', 'successful_model|NOUN', 'successful_artists|NOUN', 'such_great_success|NOUN', 'immense_success|NOUN', 'previous_successes|NOUN', 'political_success|NOUN', 'successful_comedian|NOUN', 'other_successful_start_ups|NOUN', 'Great_success|NOUN', 'successful_examples|NOUN', 'Greek](https://en.wikipedia.org/wiki/Greek_language|NOUN', 'successful_lawsuit|NOUN', 'international_success|NOUN', 'ultimate_success|NOUN', 'Greek_government|NOUN', 'lasting_success|NOUN', 'real_successor|NOUN', 'box_office_success|NOUN', 'average_Greek|NORP', 'Greek_island|NOUN', 'Greek_debt|NOUN', 'Greek_economy|NOUN', 'same_success_rate|NOUN', 'successful_marriage|NOUN', 'successful_implementation|NOUN', 'small_successes|NOUN', 'most_success|NOUN', 'Greektown|GPE', 'successful_formula|NOUN', 'Greek_philosopher|NOUN', 'career_success|NOUN', 'successful_recovery|NOUN', 'prior_success|NOUN', 'successful_war|NOUN', 'early_success|NOUN', 'Ancient_Greek|NOUN', 'Greeks|NORP', 'many_successes|NOUN', 'Unsuccessful|ADJ', 'Greek_Gods|NOUN', 'Greek_word|NOUN', 'Greek_words|NOUN', '’s_success|NOUN', 'successful_troll|NOUN', 'successful_use|NOUN', 'incredible_success|NOUN', 'successful_seasons|NOUN', 'Greek_Yogurt|NOUN', 'successful_system|NOUN', 'successful_trades|NOUN', 'Greek_roots|NOUN', 'successful_attempt|NOUN', 'military_success|NOUN', 'great_success_rate|NOUN', 'great_success|NOUN', 'most_successful_companies|NOUN', 'limited_success|NOUN', 'better_success|NOUN', 'Greek_islands|NOUN', 'true_successor|NOUN', 'Greek_population|NOUN', 'very_successful_career|NOUN', 'extreme_success|NOUN', 'good_success_rate|NOUN', 'successful_mission|NOUN', '%_success_rate|NOUN', 'Ancient_Greek](https://en.wikipedia.org/wiki/Ancient_Greek|NOUN', 'very_successful_business|NOUN', 'Greek_letter|NOUN', 'new_Greek_government|NOUN', 'successful_companies|NOUN', 'just_as_much_success|NOUN', 'Greek_mythology](https://en.wikipedia.org/wiki/Greek_mythology|NOUN', 'raging_success|NOUN', 'more_successful_people|NOUN', 'best_success|NOUN', 'instant_success|NOUN', '=_success|NOUN', 'huge_successes|NOUN', 'success_kid|NOUN', 'unsuccessful_ones|NOUN', 'successful_launches|NOUN', 'percent_success_rate|NOUN', 'so_much_success|NOUN', 'successful_case|NOUN', 'unsuccessful|ADJ', 'successfully|ADV', 'successful_club|NOUN', 'Greek_bonds|NOUN', 'Greek_media|NOUN', 'successful_adult|NOUN', 'pretty_good_success|NOUN', 'Greek_politics|NOUN', 'Greek_food|NOUN', 'Greek_religion|NOUN', 'successful_years|NOUN', 'immediate_success|NOUN', 'Unsuccessfully|ADV', 'successful_authors|NOUN', 'solid_success|NOUN', 'direct_successor|NOUN', 'successful_game|NOUN', 'successful_example|NOUN', 'successo|NOUN', 'Greek_governments|NOUN', 'overwhelming_success|NOUN', 'very_low_success_rate|NOUN', 'successful_relationship|NOUN', 'general_success|NOUN', 'Greek_salad|NOUN', 'successful_mount|NOUN', 'Greek](https://en.wikipedia.org/wiki/Ancient_Greek|NOUN', 'successful_country|NOUN', 'pretty_good_success_rate|NOUN', 'mainstream_success|NOUN', '^^information_^^does_^^not_^^guarantee_^^a_^^successful_^^swap|NOUN', 'successful_hunt|NOUN', 'successful_pregnancies|NOUN', 'actual_success|NOUN', 'successful_businesses|NOUN', 'true_success|NOUN', 'high_success|NOUN', 'future_success|NOUN', 'successful_men|NOUN', 'Greek_freak|NOUN', 'most_successful_heroes|NOUN', 'successful_business_model|NOUN', 'successful_QB|NOUN', 'unsuccessful_attempt|NOUN', 'better_success_rate|NOUN', 'Greek_language|NOUN', 'mission_success|NOUN', 'Greek_ones|NOUN', 'much_success|NOUN', 'successful_prosecution|NOUN', 'successful_operation|NOUN', 'successful_day|NOUN', 'successful_results|NOUN', 'many_Greeks|NORP', 'mythology](https://en.wikipedia.org/wiki/Greek_mythology|NOUN', 'very_little_success|NOUN', 'such_quick_succession|NOUN', 'same_success|NOUN', 'long_term_success|NOUN', 'Greek|NOUN', 'successful_post|NOUN', 'most_successful_franchises|NOUN', 'successor_function|NOUN', 'successful_entrepreneurs|NOUN', 'Greek_side|NOUN', 'successful_treatment|NOUN', 'successful_guy|NOUN', 'successful_musicians|NOUN', 'total_success|NOUN', 'successful_trip|NOUN', 'successful_movie|NOUN', 'relative_success|NOUN', 'as_much_success|NOUN', 'successful_countries|NOUN', 'close_succession|NOUN', 'current_success|NOUN', 'legal_successor|NOUN', 'big_successes|NOUN', 'Greek_root|NOUN', 'successful_transaction|NOUN', 'electoral_success|NOUN', 'little_successes|NOUN', 'reasonable_success|NOUN', 'successful_conclusion|NOUN', 'sustained_success|NOUN', 'recent_successes|NOUN', 'Greek_city|NOUN', 'athletic_success|NOUN', 'successful_artist|NOUN', 'successful_sale|NOUN', 'such_success|NOUN', 'Greek_letters|NOUN', 'mild_success|NOUN', 'most_successful_one|NOUN', 'Greek_problem|NOUN', 'successful_businessmen|NOUN', 'many_success_stories|NOUN', 'successful_marriages|NOUN', 'pretty_decent_success|NOUN', 'successful_roll|NOUN', 'successes|NOUN', 'successful_attack|NOUN', 'personal_success|NOUN', 'individual_success|NOUN', 'success/failure|NOUN', 'successful_man|NOUN', 'successful_transition|NOUN', 'successful_posts|NOUN', 'decent_success|NOUN', 'unsuccessful_men|NOUN', 'potential_success|NOUN', 'similar_success|NOUN', 'successful_family|NOUN', 'Koine_Greek|PERSON', 'successful_job|NOUN', 'Greek_life|NOUN', 'successful_writer|NOUN', 'Greek_fire|NOUN', 'successful_launch|NOUN', 'fantastic_success|NOUN', 'football_success|NOUN', 'Greek_Cypriots|NOUN', 'most_successful_game|NOUN', 'Greek_form|NOUN', 'enough_success|NOUN', 'tournament_success|NOUN', 'most_successful_people|NOUN', 'successful_company|NOUN', 'historical_success|NOUN', 'Big_Fat_Greek_Wedding|NOUN', 'successful_manager|NOUN', 'varying_success|NOUN', 'successful_team|NOUN', 'very_successful_company|NOUN', 'real_success|NOUN', 'most_successful_way|NOUN', 'successful_missions|NOUN', 'Greek_Life|NOUN', 'most_successful_person|NOUN', 'Greek_exit|NOUN', 'successful_ganks|NOUN', 'Greek_person|NOUN', 'successful_season|NOUN', 'successful_suicide|NOUN', 'previous_success|NOUN', 'success_rates|NOUN', '_successful_posts|NOUN', 'spiritual_successor|NOUN', 'natural_successor|NOUN', 'pretty_successful_career|NOUN', 'other_successful_people|NOUN', 'more_successful_career|NOUN', 'sexual_success|NOUN', 'successful_franchises|NOUN', 'most_successful_reposts|NOUN', 'successful_date|NOUN', 'Greek_literature|NOUN', 'most_successful_ones|NOUN', 'Greek_Freak|NOUN', 'successful_entrepreneur|NOUN', 'complete_success|NOUN', 'own_successes|NOUN', 'successful_women|NOUN', \"else's_success|ADV\", 'big_success|NOUN', 'successful_politician|NOUN', 'success(es|NOUN', 'successful_pregnancy|NOUN', 'Greek_yoghurt|NOUN', 'varied_success|NOUN', 'successful_band|NOUN', 'plain_Greek_yogurt|NOUN', 'further_success|NOUN', 'Greek_tragedy|NOUN', 'Greek_Mythology|PERSON', 'field_success|NOUN', 'successful_runs|NOUN', 'recent_success|NOUN', 'unsuccessful_attempts|NOUN', 'continued_success|NOUN', 'successful_show|NOUN', 'surprising_success|NOUN', 'other_Greeks|NORP', 'successful_appeal|NOUN', 'successive_generation|NOUN', 'successful_one|NOUN', 'European_success|NOUN', 'succession_war|NOUN', 'Greeks|NOUN', 'good_successor|NOUN', 'mediocre_success|NOUN', 'successful_business|NOUN', 'Greek_text|NOUN', 'new_success|NOUN', 'successful_startup|NOUN', 'great_successes|NOUN', 'successfulness|NOUN', 'successful_group|NOUN', 'quick_success|NOUN', 'long_and_successful_career|NOUN', 'successful_campaigns|NOUN', 'short_succession|NOUN', 'successo|X', 'successful_surgery|NOUN', 'successful_friends|NOUN', 'Independent_Greeks|NOUN', 'original_Greek|NORP', 'team_success|NOUN', 'successfuly|VERB', 'Greek_city_states|NOUN', 'Patriots_success|NOUN', 'successful_society|NOUN', 'successful_musician|NOUN', 'great_success_story|NOUN', 'successful_kill|NOUN', 'elective_succession|NOUN', 'relationship_success|NOUN', 'minor_success|NOUN', 'Greek_mythology|NOUN', 'successful_orders|NOUN', 'successful_strategy|NOUN', 'social_success|NOUN', 'highest_success_rate|NOUN', 'teams_success|NOUN', 'overall_success|NOUN', 'Greek_philosophers|NOUN', 'automatic_success|NOUN', 'successor_state|NOUN', 'post_season_success|NOUN', 'successful_play|NOUN', 'Greek_myth|NOUN', 'successful_venture|NOUN', 'successful_year|NOUN', 'very_good_success|NOUN', 'successful_experiment|NOUN', 'little_success|NOUN', 'monetary_success|NOUN', 'enormous_success|NOUN', 'successful_career|NOUN', 'successful_weight_loss|NOUN', 'successful_economy|NOUN', 'successful_projects|NOUN', 'successive_generations|NOUN', 'guaranteed_success|NOUN', 'constant_success|NOUN', 'more_successful_ones|NOUN', 'Ancient_Greeks|NOUN', 'successful_person|NOUN', 'successful_completion|NOUN', 'successful_students|NOUN', 'unsuccessful_people|NOUN', 'successful_series|NOUN', 'post-season_success|NOUN', 'far_more_success|NOUN', 'more_success_stories|NOUN', 'successful_student|NOUN', 'apostolic_succession|NOUN', 'much_higher_success_rate|NOUN', 'successful_hits|NOUN', 'successor_states|NOUN', 'successors|NOUN', 'rousing_success|NOUN', 'initial_success|NOUN', 'successful_campaign|NOUN', '%_success|NOUN', 'life_success|NOUN', 'HUGE_success|NOUN', 'significant_success|NOUN', 'successful_deck|NOUN', 'high_success_rate|NOUN', '^^successful|ADJ', 'Greek_pantheon|NOUN', 'proven_success|NOUN', \"other_people's_success|NOUN\", 'successful_lawyer|NOUN', 'successful_raid|NOUN', 'really_good_success|NOUN', 'major_success|NOUN', 'Greek_Orthodox|PERSON', 'Greek|LOC', 'succession_laws|NOUN', 'partial_success|NOUN', 'consistent_success|NOUN', 'more_successes|NOUN', 'unprecedented_success|NOUN', 'Greek_Freak|PERSON', 'Greek|NORP', 'successful_business_man|NOUN', 'Greek_authorities|NOUN', 'tremendous_success|NOUN', 'Greek_situation|NOUN', 'successful_app|NOUN', 'successive|ADJ', 'past_success|NOUN', 'Greek|LANGUAGE', 'Greeks|ORG', 'academic_success|NOUN', 'worthy_successor|NOUN', 'greatest_success|NOUN', 'successful_shows|NOUN', 'later_success|NOUN', 'success_rate|NOUN', 'successful_landing|NOUN', '%_success_chance|NOUN', 'successful_trade|NOUN', 'how_much_success|NOUN', 'successful_coach|NOUN', 'successful_teams|NOUN', 'THIS**](//#successfulnegro|NOUN', 'Greek_community|NOUN', 'successful_test|NOUN', 'successful_program|NOUN', 'successfuly|ADV', 'super_success|NOUN', 'long-term_success|NOUN', 'Greek|PERSON', 'successful_writers|NOUN', 'Greek_default|NOUN', 'successful_engineer|NOUN', '_success|NOUN', 'successful_parents|NOUN', 'Greek_finance_minister|NOUN', 'awesome_success|NOUN', 'successful_products|NOUN', 'successfull|VERB', 'successful_ones|NOUN', 'critical_successes|NOUN', 'very_limited_success|NOUN', 'successful_black_people|NOUN', 'most_successful_club|NOUN', 'offensive_success|NOUN', 'overnight_success|NOUN', 'Greek|GPE', 'other_successes|NOUN', 'successfull|ADJ', 'own_success|NOUN', 'Greek_statue|NOUN', 'successful_future|NOUN', 'successful_attacks|NOUN', 'Independent_Greeks|ORG', 'small_success|NOUN', 'Greek_God|NOUN', 'success_ratio|NOUN', 'successful_restaurant|NOUN', 'Greek_crisis|NOUN']\n",
      "list of distractors : ['Greek texts', 'Greek girl', 'successful doctor', 'past successes', 'Greek guy']\n",
      "length of distractors 5\n",
      "type : <class 'list'>\n",
      "[DEBUG] Final distractors: ['Greek', '1821', 'Centres'] for question: 'Greek success was also what by Greek domination of the Christian Orthodox church?'\n",
      "[DEBUG] Options: ['Centres', 'Greek', '1821', 'Greek Success'] for question: 'Greek success was also what by Greek domination of the Christian Orthodox church?'\n",
      "[DEBUG] Generated 5 questions so far after 1 attempts\n",
      "Data successfully written to ..\\outputs\\plots\\predictions\\generated_questions.json.\n"
     ]
    }
   ],
   "source": [
    "original_context = get_passage(random_passage)\n",
    "\n",
    "print(original_context)\n",
    "\n",
    "questions_and_distractors = get_mca_questions(original_context, t5qg_model, t5qg_tokenizer, sentence_transformer_model, num_questions=5)\n",
    "\n",
    "OUTPUT_FILE = os.path.join('..', 'outputs', 'plots', 'predictions', 'generated_questions.json')\n",
    "\n",
    "def convert_to_serializable(data):\n",
    "    if isinstance(data, pd.Series):\n",
    "        return data.tolist()\n",
    "    elif isinstance(data, dict):\n",
    "        return {k: convert_to_serializable(v) for k, v in data.items()}\n",
    "    elif isinstance(data, list):\n",
    "        return [convert_to_serializable(i) for i in data]\n",
    "    else:\n",
    "        return data\n",
    "\n",
    "try:\n",
    "    with open(OUTPUT_FILE, 'r') as f:\n",
    "        existing_data = json.load(f)\n",
    "        if not isinstance(existing_data, list):  # Ensure existing data is a list\n",
    "            raise ValueError(\"The existing data is not a list.\")\n",
    "except FileNotFoundError:\n",
    "    existing_data = []\n",
    "except json.JSONDecodeError:\n",
    "    print(f\"Warning: {OUTPUT_FILE} contains invalid JSON. Initializing with an empty list.\")\n",
    "    existing_data = []\n",
    "except ValueError as e:\n",
    "    print(f\"ValueError: {e}\")\n",
    "    existing_data = []\n",
    "except Exception as e:\n",
    "    print(f\"An unexpected error occurred while reading {OUTPUT_FILE}: {e}\")\n",
    "    existing_data = []\n",
    "\n",
    "# Convert any non-serializable data to a serializable format\n",
    "questions_and_distractors_serializable = convert_to_serializable(questions_and_distractors)\n",
    "existing_data.extend(questions_and_distractors_serializable)\n",
    "\n",
    "# Write updated data back to the file\n",
    "try:\n",
    "    with open(OUTPUT_FILE, 'w') as f:\n",
    "        json.dump(existing_data, f, indent=4)\n",
    "    print(f\"Data successfully written to {OUTPUT_FILE}.\")\n",
    "except Exception as e:\n",
    "    print(f\"An error occurred while writing to {OUTPUT_FILE}: {e}\")"
   ]
  }
 ],
 "metadata": {
  "kernelspec": {
   "display_name": "Thesis",
   "language": "python",
   "name": "python3"
  },
  "language_info": {
   "codemirror_mode": {
    "name": "ipython",
    "version": 3
   },
   "file_extension": ".py",
   "mimetype": "text/x-python",
   "name": "python",
   "nbconvert_exporter": "python",
   "pygments_lexer": "ipython3",
   "version": "3.12.5"
  }
 },
 "nbformat": 4,
 "nbformat_minor": 2
}
