{
 "cells": [
  {
   "cell_type": "code",
   "execution_count": 1,
   "metadata": {},
   "outputs": [],
   "source": [
    "import pandas as pd\n",
    "import numpy as np\n",
    "from pandas import json_normalize\n",
    "import json\n",
    "\n",
    "from sklearn.metrics.pairwise import cosine_similarity\n",
    "from sklearn.feature_extraction.text import TfidfVectorizer"
   ]
  },
  {
   "cell_type": "code",
   "execution_count": 3,
   "metadata": {},
   "outputs": [
    {
     "name": "stdout",
     "output_type": "stream",
     "text": [
      "   Unnamed: 0    title                                            context  \\\n",
      "0           0  Beyoncé  Beyoncé Giselle Knowles-Carter (/BiːˈJɒnseɪ/ B...   \n",
      "1           1  Beyoncé  Beyoncé Giselle Knowles-Carter (/BiːˈJɒnseɪ/ B...   \n",
      "2           2  Beyoncé  Beyoncé Giselle Knowles-Carter (/BiːˈJɒnseɪ/ B...   \n",
      "3           3  Beyoncé  Beyoncé Giselle Knowles-Carter (/BiːˈJɒnseɪ/ B...   \n",
      "4           4  Beyoncé  Beyoncé Giselle Knowles-Carter (/BiːˈJɒnseɪ/ B...   \n",
      "\n",
      "                                            question                  answers  \\\n",
      "0           When Did Beyonce Start Becoming Popular?    ['In The Late 1990S']   \n",
      "1  What Areas Did Beyonce Compete In When She Was...  ['Singing And Dancing']   \n",
      "2  When Did Beyonce Leave Destiny'S Child And Bec...                 ['2003']   \n",
      "3      In What City And State Did Beyonce  Grow Up?        ['Houston, Texas']   \n",
      "4         In Which Decade Did Beyonce Become Famous?           ['Late 1990S']   \n",
      "\n",
      "  question_type  \n",
      "0       Literal  \n",
      "1       Literal  \n",
      "2       Literal  \n",
      "3       Literal  \n",
      "4       Unknown  \n"
     ]
    }
   ],
   "source": [
    "with open(r\"D:\\02 Personal Files\\Thesis Related\\Main Thesis Project\\main\\thesis\\datasets\\squad2.0\\train-v2.0.json\", \"r\") as f:\n",
    "    data = json.load(f)\n",
    "\n",
    "df_samples = pd.read_csv(r\"D:\\02 Personal Files\\Thesis Related\\Main Thesis Project\\main\\thesis\\model_training\\output.csv\")\n",
    "\n",
    "# Check the first few rows to confirm it loaded correctly\n",
    "print(df_samples.head())"
   ]
  },
  {
   "cell_type": "code",
   "execution_count": 6,
   "metadata": {},
   "outputs": [],
   "source": [
    "def prepare_data(data):\n",
    "    articles = []\n",
    "\n",
    "    for article in data[\"data\"]:\n",
    "        title = article[\"title\"].replace('_', ' ').title()\n",
    "        \n",
    "        for paragraph in article[\"paragraphs\"]:\n",
    "            context = paragraph[\"context\"].title()\n",
    "\n",
    "            for qa in paragraph[\"qas\"]:\n",
    "                question = qa[\"question\"].title()\n",
    "                id = qa[\"id\"]\n",
    "                answer_texts = [answer[\"text\"].title() for answer in qa[\"answers\"]]\n",
    "\n",
    "                inputs = {\n",
    "                    \"title\": title,\n",
    "                    \"context\": context,\n",
    "                    \"question\": question,\n",
    "                    \"answers\": answer_texts\n",
    "                }\n",
    "                articles.append(inputs)\n",
    "\n",
    "    return articles\n"
   ]
  },
  {
   "cell_type": "code",
   "execution_count": null,
   "metadata": {},
   "outputs": [],
   "source": [
    "data = pd.read_json(r\"D:\\02 Personal Files\\Thesis Related\\Main Thesis Project\\main\\thesis\\generated_questions\")"
   ]
  },
  {
   "cell_type": "code",
   "execution_count": null,
   "metadata": {},
   "outputs": [],
   "source": [
    "def learneddata(data):\n",
    "    articles = []\n",
    "\n",
    "    for item in data:\n",
    "        title = item[\"passage\"].title()\n",
    "        context = item[\"passage\"].title()\n",
    "\n",
    "        question = item[\"questions-choices-answer\"][\"question\"].title()\n",
    "        answers = item[\"questions-choices-answer\"][\"choices\"]\n",
    "        \n",
    "        answer = item[\"questions-choices-answer\"][\"answer\"].title()\n",
    "\n",
    "        articles.append({\n",
    "            \"title\": title,\n",
    "            \"context\": context,\n",
    "            \"question\": question,\n",
    "            \"answers\": answers,\n",
    "            \"answer\": answer\n",
    "        })\n",
    "\n",
    "    return articles\n"
   ]
  },
  {
   "cell_type": "code",
   "execution_count": 7,
   "metadata": {},
   "outputs": [],
   "source": [
    "rawdata = prepare_data(data)\n",
    "\n",
    "df = pd.DataFrame(rawdata)\n",
    "\n",
    "df = df.loc[df['answers'].apply(lambda x: bool(x))]\n",
    "\n"
   ]
  },
  {
   "cell_type": "code",
   "execution_count": 6,
   "metadata": {},
   "outputs": [
    {
     "data": {
      "text/plain": [
       "Index(['title', 'context', 'question', 'answers'], dtype='object')"
      ]
     },
     "execution_count": 6,
     "metadata": {},
     "output_type": "execute_result"
    }
   ],
   "source": [
    "df.columns"
   ]
  },
  {
   "cell_type": "code",
   "execution_count": 9,
   "metadata": {},
   "outputs": [],
   "source": [
    "def classify_question(question):\n",
    "    if any(word in question.lower() for word in [\"what\", \"who\", \"when\", \"where\"]):\n",
    "        return \"Literal\"\n",
    "    elif any(word in question.lower() for word in [\"why\", \"how\", \"infer\", \"suggest\"]):\n",
    "        return \"Inferential\"\n",
    "    elif any(word in question.lower() for word in [\"evaluate\", \"opinion\", \"discuss\"]):\n",
    "        return \"Evaluative\"\n",
    "    else:\n",
    "        return \"Unknown\""
   ]
  },
  {
   "cell_type": "code",
   "execution_count": 10,
   "metadata": {},
   "outputs": [],
   "source": [
    "df['question_type'] = df['question'].apply(classify_question)"
   ]
  },
  {
   "cell_type": "code",
   "execution_count": 11,
   "metadata": {},
   "outputs": [],
   "source": [
    "df_cleaned = df[df['question_type'] != \"Unknown\"]"
   ]
  },
  {
   "cell_type": "code",
   "execution_count": 12,
   "metadata": {},
   "outputs": [],
   "source": [
    "def classify_using_cosine_similarity(question, df_cleaned, threshold=0.5):\n",
    "    vectorizer = TfidfVectorizer()\n",
    "    \n",
    "    categories = df_cleaned['question_type'].unique()\n",
    "    sample_questions = {category: df_cleaned[df_cleaned['question_type'] == category]['question'].tolist() for category in categories}\n",
    "\n",
    "    all_samples = sum(sample_questions.values(), [])\n",
    "    vectors = vectorizer.fit_transform([question] + all_samples)\n",
    "\n",
    "    question_vector = vectors[0]\n",
    "    sample_vectors = vectors[1:]\n",
    "\n",
    "    similarities = cosine_similarity(question_vector, sample_vectors).flatten()\n",
    "\n",
    "    category_similarities = {\n",
    "        category: max(similarities[i: i + len(questions)])\n",
    "        for i, (category, questions) in enumerate(sample_questions.items())\n",
    "    }\n",
    "\n",
    "    best_category, best_similarity = max(category_similarities.items(), key=lambda item: item[1])\n",
    "\n",
    "    if best_similarity >= threshold:\n",
    "        return best_category\n",
    "    else:\n",
    "        return \"Unknown\""
   ]
  },
  {
   "cell_type": "code",
   "execution_count": 16,
   "metadata": {},
   "outputs": [],
   "source": [
    "df_unknown = df[df['question_type'] == \"Unknown\"]"
   ]
  },
  {
   "cell_type": "code",
   "execution_count": 17,
   "metadata": {},
   "outputs": [],
   "source": [
    "if not df_unknown.empty:\n",
    "    df.loc[df['question_type'] == \"Unknown\", 'question_type'] = df_unknown['question'].apply(\n",
    "        lambda x: classify_using_cosine_similarity(x, df_samples, threshold=0.5)\n",
    "    )"
   ]
  },
  {
   "cell_type": "code",
   "execution_count": 19,
   "metadata": {},
   "outputs": [],
   "source": [
    "df_cleaned = df[df['question_type'] != \"Unknown\"]"
   ]
  },
  {
   "cell_type": "code",
   "execution_count": 20,
   "metadata": {},
   "outputs": [],
   "source": [
    "df_cleaned.to_csv(\"output.csv\")"
   ]
  }
 ],
 "metadata": {
  "kernelspec": {
   "display_name": "envthesis",
   "language": "python",
   "name": "python3"
  },
  "language_info": {
   "codemirror_mode": {
    "name": "ipython",
    "version": 3
   },
   "file_extension": ".py",
   "mimetype": "text/x-python",
   "name": "python",
   "nbconvert_exporter": "python",
   "pygments_lexer": "ipython3",
   "version": "3.12.3"
  }
 },
 "nbformat": 4,
 "nbformat_minor": 2
}
